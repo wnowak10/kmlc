{
 "cells": [
  {
   "cell_type": "markdown",
   "metadata": {},
   "source": [
    "To load all dynamic text and charts...\n",
    "\n",
    "0. Use a Python 3.5 Kernel.\n",
    "1. Ensure all needed libraries are installed."
   ]
  },
  {
   "cell_type": "markdown",
   "metadata": {},
   "source": [
    "# Knewton Machine Learning Challenge - Will Nowak"
   ]
  },
  {
   "cell_type": "markdown",
   "metadata": {},
   "source": [
    "*Intro: Before beginning, I would just like to reiterate my interest in, and my potential for the position. What follows are some of my investigations into a solution for this problem. They don’t rely heavily on an overly formal background in mathematics or test theory.* \n",
    "\n",
    "*I think that this makes my candidacy stronger. I am confident that I can assimilate the foundational concepts used at Knewton; I should think that Knewton seeks to find a data scientist who will think creatively, and contribute new ideas towards novel solutions. I think that my diverse background will allow me to do just this. I very much enjoyed this challenge and would relish the opportunity for further exploration. *\n"
   ]
  },
  {
   "cell_type": "markdown",
   "metadata": {},
   "source": [
    "## Goal: \"With the mid-term exam only a few days away, which questions should you exclude from the exam generation algorithm such that the exam results will provide the most meaningful ranking of the students in the class? Why?\" "
   ]
  },
  {
   "cell_type": "markdown",
   "metadata": {},
   "source": [
    "Table of contents:\n",
    "    \n",
    "1. [Goals](#goals)\n",
    "2. [Item Response Theory](#irt)\n",
    "3. [Poor Questions](#pqs)\n",
    "4. [Matching question difficulty to student ability](#mqd)\n",
    "5. [Removed questions](#rqs)"
   ]
  },
  {
   "cell_type": "markdown",
   "metadata": {},
   "source": [
    "To answer this question, we need to unpack \"meaningful ranking.\" To simplify the question a bit, we will assume that we are attempting to order students along **one** singular dimension (in this case: Astrometrics proficiency (which is likely simplisticly assumed to be one-dimesional)).\n",
    "\n",
    "Before I delve into my choice of questions to exclude, it is worth being explicit about the goals for our examination(s). \n",
    "\n",
    "### 1. Goals<a name=\"goals\"></a>\n",
    "\n",
    "1. Differentiation. (We would like to be able to distinguish between as many students as possible, instead of settling for \"ties\" in our ranking.)\n",
    "2. Breadth. (We would like the ability to distinguish between students at all points on the one-dimensional spectrum of Astrometrics ability.)\n",
    "2. Transitivity. (If student A possesses more ability than student B and student B > student C then our ranking will show student A > student C.)\n",
    "2. Consistency of examination. (If student A and B were to swap tests, the new test would not lead to any change in rankings between student A and B.)\n",
    "\n",
    "The set up is fairly unique in this case (we must choose at least 50% of the questions from the existing bank, and each student gets a random and uniform selection of 5 questions). So these constraints will limit us, but let's see if we cannot make some progress towards acheiving the aims above. "
   ]
  },
  {
   "cell_type": "markdown",
   "metadata": {},
   "source": [
    "### 2. Item Response Theory<a name=\"irt\"></a>\n",
    "\n",
    "Let's just go straight to the horse's mouth for help -- the [Knewton Tech Blog.](https://tech.knewton.com/blog/2012/06/understanding-student-performance-with-item-response-theory/ \n",
    ") Here, the authors discuss item response theory, and two important question parameters: difficulty and differentiation. Let's dig into the data and see if we can create this sort of model, based on the data from last year."
   ]
  },
  {
   "cell_type": "code",
   "execution_count": 1,
   "metadata": {
    "collapsed": true
   },
   "outputs": [],
   "source": [
    "# import libraries\n",
    "import pandas as pd\n",
    "import matplotlib.pyplot as plt\n",
    "import seaborn as sns\n",
    "import numpy as np\n",
    "import warnings\n",
    "warnings.filterwarnings(\"ignore\", category=DeprecationWarning) \n",
    "from scipy.optimize import curve_fit\n",
    "%matplotlib inline  "
   ]
  },
  {
   "cell_type": "code",
   "execution_count": 2,
   "metadata": {
    "collapsed": true
   },
   "outputs": [],
   "source": [
    "# set seed\n",
    "np.random.seed(1234)"
   ]
  },
  {
   "cell_type": "code",
   "execution_count": 3,
   "metadata": {
    "collapsed": false
   },
   "outputs": [],
   "source": [
    "# read data\n",
    "df = pd.read_csv('astudentData.csv')"
   ]
  },
  {
   "cell_type": "code",
   "execution_count": 4,
   "metadata": {
    "collapsed": true
   },
   "outputs": [],
   "source": [
    "student_scores = df.groupby('user_id')['correct'].mean()# look at mean score for each student"
   ]
  },
  {
   "cell_type": "markdown",
   "metadata": {
    "variables": {
     "print(\"%.2f\" % student_scores.median())": "0.64"
    }
   },
   "source": [
    "The histogram<a name=\"studs\"></a> below shows that the student score distribution was fairly normal, centered roughly around the median ({{print(\"%.2f\" % student_scores.median())}})."
   ]
  },
  {
   "cell_type": "code",
   "execution_count": 5,
   "metadata": {
    "collapsed": false
   },
   "outputs": [
    {
     "name": "stderr",
     "output_type": "stream",
     "text": [
      "/anaconda/envs/py35/lib/python3.5/site-packages/statsmodels/nonparametric/kdetools.py:20: VisibleDeprecationWarning: using a non-integer number instead of an integer will result in an error in the future\n",
      "  y = X[:m/2+1] + np.r_[0,X[m/2+1:],0]*1j\n"
     ]
    },
    {
     "data": {
      "image/png": "[encoded data removed]",
      "text/plain": [
       "<matplotlib.figure.Figure at 0x10f751390>"
      ]
     },
     "metadata": {},
     "output_type": "display_data"
    }
   ],
   "source": [
    "# Histogram of student scores\n",
    "sns.distplot(student_scores, rug = True)\n",
    "sns.plt.suptitle('Distribution of Student Scores')\n",
    "plt.show()"
   ]
  },
  {
   "cell_type": "code",
   "execution_count": 6,
   "metadata": {
    "collapsed": false
   },
   "outputs": [
    {
     "data": {
      "text/html": [
       "<div>\n",
       "<table border=\"1\" class=\"dataframe\">\n",
       "  <thead>\n",
       "    <tr style=\"text-align: right;\">\n",
       "      <th></th>\n",
       "      <th>question_id</th>\n",
       "      <th>user_id</th>\n",
       "      <th>correct</th>\n",
       "      <th>student_score</th>\n",
       "    </tr>\n",
       "  </thead>\n",
       "  <tbody>\n",
       "    <tr>\n",
       "      <th>0</th>\n",
       "      <td>13</td>\n",
       "      <td>63994</td>\n",
       "      <td>0</td>\n",
       "      <td>0.304</td>\n",
       "    </tr>\n",
       "    <tr>\n",
       "      <th>1</th>\n",
       "      <td>27</td>\n",
       "      <td>63994</td>\n",
       "      <td>0</td>\n",
       "      <td>0.304</td>\n",
       "    </tr>\n",
       "    <tr>\n",
       "      <th>2</th>\n",
       "      <td>57</td>\n",
       "      <td>63994</td>\n",
       "      <td>1</td>\n",
       "      <td>0.304</td>\n",
       "    </tr>\n",
       "    <tr>\n",
       "      <th>3</th>\n",
       "      <td>58</td>\n",
       "      <td>63994</td>\n",
       "      <td>0</td>\n",
       "      <td>0.304</td>\n",
       "    </tr>\n",
       "    <tr>\n",
       "      <th>4</th>\n",
       "      <td>59</td>\n",
       "      <td>63994</td>\n",
       "      <td>0</td>\n",
       "      <td>0.304</td>\n",
       "    </tr>\n",
       "  </tbody>\n",
       "</table>\n",
       "</div>"
      ],
      "text/plain": [
       "   question_id  user_id  correct  student_score\n",
       "0           13    63994        0          0.304\n",
       "1           27    63994        0          0.304\n",
       "2           57    63994        1          0.304\n",
       "3           58    63994        0          0.304\n",
       "4           59    63994        0          0.304"
      ]
     },
     "execution_count": 6,
     "metadata": {},
     "output_type": "execute_result"
    }
   ],
   "source": [
    "# Tack on student score as a new column to original dataframe. \n",
    "\n",
    "# Again, find student scores. Create this as a pd dataframe. \n",
    "stu_scores = df.groupby('user_id')['correct'].mean().reset_index(name='student_score')\n",
    "stu_scores_new_index = stu_scores.set_index(stu_scores['user_id'])\n",
    "# rRset index to user_id\n",
    "df_new_index = df.set_index(df['user_id'])\n",
    "# Now merge to original df on user_id index\n",
    "merged = df_new_index.merge(stu_scores_new_index)\n",
    "merged.head()"
   ]
  },
  {
   "cell_type": "markdown",
   "metadata": {},
   "source": [
    "Above, we find the test score for each student on last year's test and tack it on to the given dataframe. "
   ]
  },
  {
   "cell_type": "markdown",
   "metadata": {
    "collapsed": true
   },
   "source": [
    "In item response theory, the oft-described \"two parameter\" model uses - you guessed it - 2 parameters (often parameterized as difficulty ($\\beta$) and differentiation ($\\alpha$)) to model the probability of correct response ($p(x_i)$), given some level of student ability ($\\theta$).\n",
    "\n",
    "$p_i(x_j = 1 |  \\theta, \\alpha_j, \\beta_j) = \\frac{1}{1+ e^{-\\alpha_j(\\theta - \\beta_j)}}$"
   ]
  },
  {
   "cell_type": "code",
   "execution_count": 7,
   "metadata": {
    "collapsed": true
   },
   "outputs": [],
   "source": [
    "def icc(x, a, b):\n",
    "    '''\n",
    "    define 2 parameter item characteristic model\n",
    "    '''\n",
    "    return 1/(1 + np.exp(a * (x - b)))"
   ]
  },
  {
   "cell_type": "markdown",
   "metadata": {},
   "source": [
    "Item response theory assumes \"local independence\". In this case, we've no reason (since the previous teacher used our proposed algorithm of randomly selecting questions) to believe that this assumption does not hold. \n",
    "\n",
    "[Rasch.org](https://www.rasch.org/rmt/rmt213b.htm) explains: \"That is, a correct or wrong reply to one item should not lead to a correct or wrong reply to another item.\" Since the questions are random, this should hold. "
   ]
  },
  {
   "cell_type": "code",
   "execution_count": 8,
   "metadata": {
    "collapsed": false
   },
   "outputs": [
    {
     "name": "stdout",
     "output_type": "stream",
     "text": [
      "fit 13 done\n",
      "fit 21 done\n",
      "fit 26 done\n",
      "fit 27 done\n",
      "fit 28 done\n",
      "fit 37 done\n",
      "fit 44 done\n",
      "fit 45 done\n",
      "fit 53 done\n",
      "fit 54 done\n",
      "fit 56 done\n",
      "fit 57 done\n",
      "fit 58 done\n",
      "fit 59 done\n",
      "fit 63 done\n",
      "fit 64 done\n",
      "fit 65 done\n",
      "fit 66 done\n",
      "fit 92 done\n",
      "fit 102 done\n",
      "fit 114 done\n",
      "fit 130 done\n",
      "fit 135 done\n",
      "fit 141 done\n",
      "fit 155 done\n",
      "fit 159 done\n",
      "fit 165 done\n",
      "fit 166 done\n",
      "fit 167 done\n",
      "fit 169 done\n",
      "fit 172 done\n",
      "fit 176 done\n",
      "fit 182 done\n",
      "fit 186 done\n",
      "fit 190 done\n",
      "fit 191 done\n",
      "fit 192 done\n",
      "fit 194 done\n",
      "fit 206 done\n",
      "fit 223 done\n",
      "fit 226 done\n",
      "fit 230 done\n",
      "fit 242 done\n",
      "fit 243 done\n",
      "fit 246 done\n",
      "fit 251 done\n",
      "fit 255 done\n",
      "fit 268 done\n",
      "fit 276 done\n",
      "fit 302 done\n",
      "fit 310 done\n",
      "fit 311 done\n",
      "fit 315 done\n",
      "fit 335 done\n",
      "fit 337 done\n",
      "fit 345 done\n",
      "fit 349 done\n",
      "fit 360 done\n",
      "fit 367 done\n",
      "fit 369 done\n",
      "fit 371 done\n",
      "fit 375 done\n",
      "fit 383 done\n",
      "fit 388 done\n",
      "fit 396 done\n",
      "fit 397 done\n",
      "fit 436 done\n",
      "fit 438 done\n",
      "fit 441 done\n",
      "fit 445 done\n",
      "fit 452 done\n",
      "fit 456 done\n",
      "fit 461 done\n",
      "fit 470 done\n",
      "fit 471 done\n",
      "fit 504 done\n",
      "fit 515 done\n",
      "fit 527 done\n",
      "fit 537 done\n",
      "fit 544 done\n",
      "fit 555 done\n",
      "fit 563 done\n",
      "fit 575 done\n",
      "fit 581 done\n",
      "fit 595 done\n",
      "fit 597 done\n",
      "fit 602 done\n",
      "fit 604 done\n",
      "fit 606 done\n",
      "fit 607 done\n",
      "fit 608 done\n",
      "fit 613 done\n",
      "fit 618 done\n",
      "fit 627 done\n",
      "fit 631 done\n",
      "fit 635 done\n",
      "fit 637 done\n",
      "fit 639 done\n",
      "fit 645 done\n",
      "fit 647 done\n",
      "fit 648 done\n",
      "fit 649 done\n",
      "fit 654 done\n",
      "fit 655 done\n",
      "fit 656 done\n",
      "fit 658 done\n",
      "fit 660 done\n",
      "fit 661 done\n",
      "fit 662 done\n",
      "fit 663 done\n",
      "fit 664 done\n",
      "fit 671 done\n",
      "fit 687 done\n",
      "fit 688 done\n",
      "fit 691 done\n",
      "fit 692 done\n",
      "fit 694 done\n",
      "fit 696 done\n",
      "fit 697 done\n",
      "fit 700 done\n",
      "fit 704 done\n",
      "fit 705 done\n",
      "fit 707 done\n",
      "fit 708 done\n",
      "fit 710 done\n",
      "fit 712 done\n",
      "fit 713 done\n",
      "fit 714 done\n",
      "fit 716 done\n",
      "fit 753 done\n",
      "fit 754 done\n",
      "fit 760 done\n",
      "fit 766 done\n",
      "fit 807 done\n",
      "fit 809 done\n",
      "fit 810 done\n",
      "fit 813 done\n",
      "fit 815 done\n",
      "fit 817 done\n",
      "fit 818 done\n",
      "fit 864 done\n",
      "fit 910 done\n",
      "fit 914 done\n",
      "fit 994 done\n",
      "fit 998 done\n",
      "fit 999 done\n",
      "fit 1000 done\n",
      "fit 1001 done\n",
      "fit 1006 done\n",
      "fit 1009 done\n",
      "fit 1011 done\n",
      "fit 1014 done\n",
      "fit 1042 done\n",
      "fit 1049 done\n",
      "fit 1052 done\n",
      "fit 1060 done\n",
      "fit 1079 done\n",
      "fit 1085 done\n",
      "fit 1087 done\n",
      "fit 1089 done\n",
      "fit 1090 done\n",
      "fit 1104 done\n",
      "fit 1109 done\n",
      "fit 1110 done\n",
      "fit 1112 done\n",
      "fit 1113 done\n",
      "fit 1119 done\n",
      "fit 1122 done\n",
      "fit 1124 done\n",
      "fit 1135 done\n",
      "fit 1136 done\n",
      "fit 1140 done\n",
      "fit 1143 done\n",
      "fit 1146 done\n",
      "fit 1149 done\n",
      "fit 1151 done\n",
      "fit 1232 done\n",
      "fit 1591 done\n",
      "fit 1592 done\n",
      "fit 1593 done\n",
      "fit 1600 done\n",
      "fit 1601 done\n",
      "fit 1604 done\n",
      "fit 1605 done\n",
      "fit 1606 done\n",
      "fit 1607 done\n",
      "fit 1608 done\n",
      "fit 1609 done\n",
      "fit 1611 done\n",
      "fit 1612 done\n",
      "fit 1613 done\n",
      "fit 1614 done\n",
      "fit 1619 done\n",
      "fit 1623 done\n",
      "fit 1628 done\n",
      "fit 1630 done\n",
      "fit 1632 done\n",
      "fit 1633 done\n",
      "fit 1634 done\n",
      "fit 1637 done\n",
      "fit 1638 done\n",
      "fit 2193 done\n",
      "fit 2202 done\n",
      "fit 2208 done\n",
      "fit 2214 done\n",
      "fit 2234 done\n",
      "fit 2254 done\n",
      "fit 2270 done\n",
      "fit 2291 done\n",
      "fit 2321 done\n",
      "fit 2335 done\n",
      "fit 2343 done\n",
      "fit 2348 done\n",
      "fit 2354 done\n",
      "fit 2355 done\n",
      "fit 2371 done\n",
      "fit 2489 done\n",
      "fit 2497 done\n",
      "fit 2504 done\n",
      "fit 2511 done\n",
      "fit 2514 done\n",
      "fit 2516 done\n",
      "fit 2517 done\n",
      "fit 3828 done\n",
      "fit 3855 done\n",
      "fit 3859 done\n",
      "fit 3917 done\n",
      "fit 4497 done\n",
      "fit 4539 done\n",
      "fit 4541 done\n",
      "fit 4994 done\n",
      "fit 5420 done\n",
      "fit 5425 done\n",
      "fit 5456 done\n",
      "fit 5475 done\n",
      "fit 5477 done\n",
      "fit 5480 done\n",
      "fit 5489 done\n",
      "fit 5490 done\n",
      "fit 5494 done\n",
      "fit 5504 done\n",
      "fit 5515 done\n",
      "fit 5534 done\n",
      "fit 5548 done\n",
      "fit 5553 done\n",
      "fit 5559 done\n",
      "fit 5561 done\n",
      "fit 5562 done\n",
      "fit 5566 done\n",
      "fit 5580 done\n",
      "fit 5584 done\n",
      "fit 5591 done\n",
      "fit 5594 done\n",
      "Question 5601 took too long...skip.\n",
      "fit 5620 done\n",
      "fit 5916 done\n",
      "fit 11390 done\n",
      "fit 11542 done\n",
      "fit 12098 done\n",
      "fit 12109 done\n",
      "fit 12144 done\n",
      "fit 12146 done\n",
      "fit 12148 done\n",
      "fit 12149 done\n",
      "fit 12151 done\n",
      "fit 12157 done\n",
      "fit 12159 done\n",
      "fit 12166 done\n",
      "fit 12168 done\n",
      "fit 12171 done\n",
      "fit 12179 done\n",
      "fit 12208 done\n",
      "fit 12209 done\n",
      "fit 12212 done\n",
      "fit 12663 done\n",
      "fit 12665 done\n",
      "fit 12672 done\n",
      "fit 12674 done\n"
     ]
    },
    {
     "name": "stderr",
     "output_type": "stream",
     "text": [
      "/anaconda/envs/py35/lib/python3.5/site-packages/scipy/optimize/minpack.py:715: OptimizeWarning: Covariance of the parameters could not be estimated\n",
      "  category=OptimizeWarning)\n"
     ]
    },
    {
     "name": "stdout",
     "output_type": "stream",
     "text": [
      "fit 12709 done\n",
      "fit 12710 done\n",
      "fit 12711 done\n",
      "fit 12716 done\n",
      "fit 12717 done\n",
      "fit 12718 done\n",
      "fit 12719 done\n",
      "fit 12720 done\n",
      "fit 12721 done\n",
      "fit 12729 done\n",
      "fit 12730 done\n",
      "fit 12734 done\n",
      "fit 12745 done\n",
      "fit 12749 done\n",
      "fit 12750 done\n",
      "fit 12752 done\n",
      "fit 12754 done\n",
      "fit 12755 done\n",
      "fit 12763 done\n",
      "fit 12776 done\n",
      "fit 12777 done\n",
      "fit 12783 done\n",
      "fit 12790 done\n",
      "fit 12793 done\n",
      "fit 12797 done\n",
      "fit 12799 done\n",
      "fit 12801 done\n",
      "fit 12803 done\n",
      "fit 12810 done\n",
      "fit 12812 done\n",
      "fit 12814 done\n",
      "fit 12817 done\n",
      "fit 12821 done\n",
      "fit 12929 done\n",
      "fit 12930 done\n",
      "fit 12932 done\n",
      "fit 12949 done\n",
      "fit 13074 done\n",
      "fit 13078 done\n",
      "fit 13080 done\n",
      "fit 13201 done\n",
      "fit 13205 done\n",
      "fit 13207 done\n",
      "fit 13208 done\n",
      "fit 13210 done\n",
      "fit 13211 done\n",
      "fit 13212 done\n",
      "fit 13214 done\n",
      "fit 13215 done\n",
      "fit 13217 done\n",
      "fit 13221 done\n",
      "fit 13222 done\n",
      "fit 13224 done\n",
      "fit 13228 done\n",
      "fit 13229 done\n",
      "fit 13230 done\n",
      "fit 13231 done\n",
      "fit 13234 done\n",
      "fit 13235 done\n",
      "fit 13236 done\n",
      "fit 13239 done\n",
      "fit 13241 done\n",
      "fit 13243 done\n",
      "fit 13273 done\n",
      "fit 13274 done\n",
      "fit 13275 done\n",
      "fit 13276 done\n",
      "fit 13277 done\n",
      "fit 13278 done\n",
      "fit 13280 done\n",
      "fit 13281 done\n",
      "fit 13282 done\n",
      "fit 13286 done\n",
      "fit 13287 done\n",
      "fit 13292 done\n",
      "fit 13509 done\n",
      "fit 13510 done\n",
      "fit 13513 done\n",
      "fit 13514 done\n",
      "fit 13517 done\n",
      "fit 13532 done\n",
      "fit 13535 done\n",
      "fit 13536 done\n",
      "fit 15010 done\n",
      "fit 15011 done\n",
      "fit 15013 done\n",
      "fit 15014 done\n",
      "fit 15029 done\n",
      "fit 15030 done\n",
      "fit 15031 done\n",
      "fit 15032 done\n",
      "fit 15033 done\n",
      "fit 15049 done\n",
      "fit 15050 done\n",
      "fit 15051 done\n",
      "fit 15052 done\n",
      "fit 15053 done\n",
      "fit 15057 done\n",
      "fit 15059 done\n",
      "fit 15061 done\n",
      "fit 15062 done\n",
      "fit 15063 done\n",
      "fit 15064 done\n",
      "fit 15065 done\n",
      "fit 15071 done\n",
      "fit 15142 done\n",
      "fit 15147 done\n",
      "fit 15403 done\n",
      "fit 15412 done\n",
      "fit 15413 done\n",
      "fit 15415 done\n",
      "fit 15865 done\n",
      "fit 15872 done\n"
     ]
    },
    {
     "data": {
      "text/html": [
       "<div>\n",
       "<table border=\"1\" class=\"dataframe\">\n",
       "  <thead>\n",
       "    <tr style=\"text-align: right;\">\n",
       "      <th></th>\n",
       "      <th>alpha</th>\n",
       "      <th>beta</th>\n",
       "      <th>question index</th>\n",
       "    </tr>\n",
       "  </thead>\n",
       "  <tbody>\n",
       "    <tr>\n",
       "      <th>272</th>\n",
       "      <td>-1693.229558</td>\n",
       "      <td>0.668565</td>\n",
       "      <td>12209</td>\n",
       "    </tr>\n",
       "    <tr>\n",
       "      <th>47</th>\n",
       "      <td>-348.457038</td>\n",
       "      <td>0.138798</td>\n",
       "      <td>268</td>\n",
       "    </tr>\n",
       "    <tr>\n",
       "      <th>305</th>\n",
       "      <td>-221.043794</td>\n",
       "      <td>0.778917</td>\n",
       "      <td>12803</td>\n",
       "    </tr>\n",
       "    <tr>\n",
       "      <th>357</th>\n",
       "      <td>-185.608973</td>\n",
       "      <td>0.652467</td>\n",
       "      <td>13517</td>\n",
       "    </tr>\n",
       "    <tr>\n",
       "      <th>386</th>\n",
       "      <td>-17.232138</td>\n",
       "      <td>0.937226</td>\n",
       "      <td>15412</td>\n",
       "    </tr>\n",
       "    <tr>\n",
       "      <th>116</th>\n",
       "      <td>-15.068794</td>\n",
       "      <td>0.161987</td>\n",
       "      <td>694</td>\n",
       "    </tr>\n",
       "    <tr>\n",
       "      <th>112</th>\n",
       "      <td>-14.881589</td>\n",
       "      <td>0.267503</td>\n",
       "      <td>687</td>\n",
       "    </tr>\n",
       "    <tr>\n",
       "      <th>177</th>\n",
       "      <td>-14.543908</td>\n",
       "      <td>0.189634</td>\n",
       "      <td>1591</td>\n",
       "    </tr>\n",
       "    <tr>\n",
       "      <th>228</th>\n",
       "      <td>-13.143754</td>\n",
       "      <td>0.173091</td>\n",
       "      <td>4539</td>\n",
       "    </tr>\n",
       "    <tr>\n",
       "      <th>147</th>\n",
       "      <td>-12.096882</td>\n",
       "      <td>0.217997</td>\n",
       "      <td>1001</td>\n",
       "    </tr>\n",
       "    <tr>\n",
       "      <th>241</th>\n",
       "      <td>-12.040224</td>\n",
       "      <td>0.236512</td>\n",
       "      <td>5515</td>\n",
       "    </tr>\n",
       "    <tr>\n",
       "      <th>125</th>\n",
       "      <td>-11.978580</td>\n",
       "      <td>0.287640</td>\n",
       "      <td>712</td>\n",
       "    </tr>\n",
       "    <tr>\n",
       "      <th>87</th>\n",
       "      <td>-11.633559</td>\n",
       "      <td>0.232462</td>\n",
       "      <td>604</td>\n",
       "    </tr>\n",
       "    <tr>\n",
       "      <th>368</th>\n",
       "      <td>-11.555979</td>\n",
       "      <td>0.755616</td>\n",
       "      <td>15032</td>\n",
       "    </tr>\n",
       "    <tr>\n",
       "      <th>115</th>\n",
       "      <td>-11.452126</td>\n",
       "      <td>0.212875</td>\n",
       "      <td>692</td>\n",
       "    </tr>\n",
       "    <tr>\n",
       "      <th>119</th>\n",
       "      <td>-11.051799</td>\n",
       "      <td>0.251552</td>\n",
       "      <td>700</td>\n",
       "    </tr>\n",
       "    <tr>\n",
       "      <th>181</th>\n",
       "      <td>-10.855335</td>\n",
       "      <td>0.359065</td>\n",
       "      <td>1601</td>\n",
       "    </tr>\n",
       "    <tr>\n",
       "      <th>105</th>\n",
       "      <td>-10.304815</td>\n",
       "      <td>0.334813</td>\n",
       "      <td>658</td>\n",
       "    </tr>\n",
       "    <tr>\n",
       "      <th>53</th>\n",
       "      <td>-10.202078</td>\n",
       "      <td>0.307364</td>\n",
       "      <td>335</td>\n",
       "    </tr>\n",
       "    <tr>\n",
       "      <th>260</th>\n",
       "      <td>-10.110946</td>\n",
       "      <td>0.272829</td>\n",
       "      <td>12144</td>\n",
       "    </tr>\n",
       "    <tr>\n",
       "      <th>378</th>\n",
       "      <td>-9.981351</td>\n",
       "      <td>0.830356</td>\n",
       "      <td>15062</td>\n",
       "    </tr>\n",
       "    <tr>\n",
       "      <th>200</th>\n",
       "      <td>-9.920838</td>\n",
       "      <td>0.352938</td>\n",
       "      <td>1638</td>\n",
       "    </tr>\n",
       "    <tr>\n",
       "      <th>92</th>\n",
       "      <td>-9.696429</td>\n",
       "      <td>0.227678</td>\n",
       "      <td>618</td>\n",
       "    </tr>\n",
       "    <tr>\n",
       "      <th>102</th>\n",
       "      <td>-9.558690</td>\n",
       "      <td>0.398593</td>\n",
       "      <td>654</td>\n",
       "    </tr>\n",
       "    <tr>\n",
       "      <th>263</th>\n",
       "      <td>-9.314350</td>\n",
       "      <td>0.300933</td>\n",
       "      <td>12149</td>\n",
       "    </tr>\n",
       "    <tr>\n",
       "      <th>389</th>\n",
       "      <td>-9.242148</td>\n",
       "      <td>0.628810</td>\n",
       "      <td>15865</td>\n",
       "    </tr>\n",
       "    <tr>\n",
       "      <th>106</th>\n",
       "      <td>-9.171018</td>\n",
       "      <td>0.221248</td>\n",
       "      <td>660</td>\n",
       "    </tr>\n",
       "    <tr>\n",
       "      <th>268</th>\n",
       "      <td>-9.163201</td>\n",
       "      <td>0.236664</td>\n",
       "      <td>12168</td>\n",
       "    </tr>\n",
       "    <tr>\n",
       "      <th>356</th>\n",
       "      <td>-9.135490</td>\n",
       "      <td>0.794207</td>\n",
       "      <td>13514</td>\n",
       "    </tr>\n",
       "    <tr>\n",
       "      <th>310</th>\n",
       "      <td>-9.117826</td>\n",
       "      <td>0.834335</td>\n",
       "      <td>12821</td>\n",
       "    </tr>\n",
       "    <tr>\n",
       "      <th>...</th>\n",
       "      <td>...</td>\n",
       "      <td>...</td>\n",
       "      <td>...</td>\n",
       "    </tr>\n",
       "    <tr>\n",
       "      <th>38</th>\n",
       "      <td>-4.396782</td>\n",
       "      <td>0.457556</td>\n",
       "      <td>206</td>\n",
       "    </tr>\n",
       "    <tr>\n",
       "      <th>131</th>\n",
       "      <td>-4.366271</td>\n",
       "      <td>0.680405</td>\n",
       "      <td>760</td>\n",
       "    </tr>\n",
       "    <tr>\n",
       "      <th>203</th>\n",
       "      <td>-4.330034</td>\n",
       "      <td>0.621332</td>\n",
       "      <td>2208</td>\n",
       "    </tr>\n",
       "    <tr>\n",
       "      <th>266</th>\n",
       "      <td>-4.320214</td>\n",
       "      <td>0.433661</td>\n",
       "      <td>12159</td>\n",
       "    </tr>\n",
       "    <tr>\n",
       "      <th>73</th>\n",
       "      <td>-4.169339</td>\n",
       "      <td>0.426530</td>\n",
       "      <td>470</td>\n",
       "    </tr>\n",
       "    <tr>\n",
       "      <th>201</th>\n",
       "      <td>-4.122824</td>\n",
       "      <td>0.618572</td>\n",
       "      <td>2193</td>\n",
       "    </tr>\n",
       "    <tr>\n",
       "      <th>54</th>\n",
       "      <td>-3.989171</td>\n",
       "      <td>0.461792</td>\n",
       "      <td>337</td>\n",
       "    </tr>\n",
       "    <tr>\n",
       "      <th>50</th>\n",
       "      <td>-3.799686</td>\n",
       "      <td>0.299034</td>\n",
       "      <td>310</td>\n",
       "    </tr>\n",
       "    <tr>\n",
       "      <th>251</th>\n",
       "      <td>-3.731385</td>\n",
       "      <td>0.064088</td>\n",
       "      <td>5591</td>\n",
       "    </tr>\n",
       "    <tr>\n",
       "      <th>86</th>\n",
       "      <td>-3.680457</td>\n",
       "      <td>0.589864</td>\n",
       "      <td>602</td>\n",
       "    </tr>\n",
       "    <tr>\n",
       "      <th>284</th>\n",
       "      <td>-2.544085</td>\n",
       "      <td>1.445717</td>\n",
       "      <td>12719</td>\n",
       "    </tr>\n",
       "    <tr>\n",
       "      <th>248</th>\n",
       "      <td>-2.249208</td>\n",
       "      <td>1.177172</td>\n",
       "      <td>5566</td>\n",
       "    </tr>\n",
       "    <tr>\n",
       "      <th>249</th>\n",
       "      <td>-2.213969</td>\n",
       "      <td>0.321366</td>\n",
       "      <td>5580</td>\n",
       "    </tr>\n",
       "    <tr>\n",
       "      <th>388</th>\n",
       "      <td>-2.144201</td>\n",
       "      <td>0.784385</td>\n",
       "      <td>15415</td>\n",
       "    </tr>\n",
       "    <tr>\n",
       "      <th>381</th>\n",
       "      <td>-2.091232</td>\n",
       "      <td>0.921683</td>\n",
       "      <td>15065</td>\n",
       "    </tr>\n",
       "    <tr>\n",
       "      <th>275</th>\n",
       "      <td>-2.066647</td>\n",
       "      <td>-10.470703</td>\n",
       "      <td>12665</td>\n",
       "    </tr>\n",
       "    <tr>\n",
       "      <th>288</th>\n",
       "      <td>-2.038102</td>\n",
       "      <td>1.160517</td>\n",
       "      <td>12730</td>\n",
       "    </tr>\n",
       "    <tr>\n",
       "      <th>48</th>\n",
       "      <td>-2.024267</td>\n",
       "      <td>0.517366</td>\n",
       "      <td>276</td>\n",
       "    </tr>\n",
       "    <tr>\n",
       "      <th>291</th>\n",
       "      <td>-1.757753</td>\n",
       "      <td>1.181655</td>\n",
       "      <td>12749</td>\n",
       "    </tr>\n",
       "    <tr>\n",
       "      <th>362</th>\n",
       "      <td>-1.736863</td>\n",
       "      <td>0.806861</td>\n",
       "      <td>15011</td>\n",
       "    </tr>\n",
       "    <tr>\n",
       "      <th>306</th>\n",
       "      <td>-1.580472</td>\n",
       "      <td>0.810681</td>\n",
       "      <td>12810</td>\n",
       "    </tr>\n",
       "    <tr>\n",
       "      <th>179</th>\n",
       "      <td>-1.421949</td>\n",
       "      <td>0.511961</td>\n",
       "      <td>1593</td>\n",
       "    </tr>\n",
       "    <tr>\n",
       "      <th>309</th>\n",
       "      <td>-1.152918</td>\n",
       "      <td>0.914931</td>\n",
       "      <td>12817</td>\n",
       "    </tr>\n",
       "    <tr>\n",
       "      <th>234</th>\n",
       "      <td>-1.087294</td>\n",
       "      <td>0.639821</td>\n",
       "      <td>5475</td>\n",
       "    </tr>\n",
       "    <tr>\n",
       "      <th>165</th>\n",
       "      <td>-0.845957</td>\n",
       "      <td>-0.793392</td>\n",
       "      <td>1113</td>\n",
       "    </tr>\n",
       "    <tr>\n",
       "      <th>253</th>\n",
       "      <td>0.000000</td>\n",
       "      <td>0.000000</td>\n",
       "      <td>5601</td>\n",
       "    </tr>\n",
       "    <tr>\n",
       "      <th>281</th>\n",
       "      <td>1.945250</td>\n",
       "      <td>0.569340</td>\n",
       "      <td>12716</td>\n",
       "    </tr>\n",
       "    <tr>\n",
       "      <th>282</th>\n",
       "      <td>2.753155</td>\n",
       "      <td>0.172438</td>\n",
       "      <td>12717</td>\n",
       "    </tr>\n",
       "    <tr>\n",
       "      <th>176</th>\n",
       "      <td>7.124500</td>\n",
       "      <td>0.444330</td>\n",
       "      <td>1232</td>\n",
       "    </tr>\n",
       "    <tr>\n",
       "      <th>279</th>\n",
       "      <td>225.817477</td>\n",
       "      <td>0.779424</td>\n",
       "      <td>12710</td>\n",
       "    </tr>\n",
       "  </tbody>\n",
       "</table>\n",
       "<p>391 rows × 3 columns</p>\n",
       "</div>"
      ],
      "text/plain": [
       "           alpha       beta  question index\n",
       "272 -1693.229558   0.668565           12209\n",
       "47   -348.457038   0.138798             268\n",
       "305  -221.043794   0.778917           12803\n",
       "357  -185.608973   0.652467           13517\n",
       "386   -17.232138   0.937226           15412\n",
       "116   -15.068794   0.161987             694\n",
       "112   -14.881589   0.267503             687\n",
       "177   -14.543908   0.189634            1591\n",
       "228   -13.143754   0.173091            4539\n",
       "147   -12.096882   0.217997            1001\n",
       "241   -12.040224   0.236512            5515\n",
       "125   -11.978580   0.287640             712\n",
       "87    -11.633559   0.232462             604\n",
       "368   -11.555979   0.755616           15032\n",
       "115   -11.452126   0.212875             692\n",
       "119   -11.051799   0.251552             700\n",
       "181   -10.855335   0.359065            1601\n",
       "105   -10.304815   0.334813             658\n",
       "53    -10.202078   0.307364             335\n",
       "260   -10.110946   0.272829           12144\n",
       "378    -9.981351   0.830356           15062\n",
       "200    -9.920838   0.352938            1638\n",
       "92     -9.696429   0.227678             618\n",
       "102    -9.558690   0.398593             654\n",
       "263    -9.314350   0.300933           12149\n",
       "389    -9.242148   0.628810           15865\n",
       "106    -9.171018   0.221248             660\n",
       "268    -9.163201   0.236664           12168\n",
       "356    -9.135490   0.794207           13514\n",
       "310    -9.117826   0.834335           12821\n",
       "..           ...        ...             ...\n",
       "38     -4.396782   0.457556             206\n",
       "131    -4.366271   0.680405             760\n",
       "203    -4.330034   0.621332            2208\n",
       "266    -4.320214   0.433661           12159\n",
       "73     -4.169339   0.426530             470\n",
       "201    -4.122824   0.618572            2193\n",
       "54     -3.989171   0.461792             337\n",
       "50     -3.799686   0.299034             310\n",
       "251    -3.731385   0.064088            5591\n",
       "86     -3.680457   0.589864             602\n",
       "284    -2.544085   1.445717           12719\n",
       "248    -2.249208   1.177172            5566\n",
       "249    -2.213969   0.321366            5580\n",
       "388    -2.144201   0.784385           15415\n",
       "381    -2.091232   0.921683           15065\n",
       "275    -2.066647 -10.470703           12665\n",
       "288    -2.038102   1.160517           12730\n",
       "48     -2.024267   0.517366             276\n",
       "291    -1.757753   1.181655           12749\n",
       "362    -1.736863   0.806861           15011\n",
       "306    -1.580472   0.810681           12810\n",
       "179    -1.421949   0.511961            1593\n",
       "309    -1.152918   0.914931           12817\n",
       "234    -1.087294   0.639821            5475\n",
       "165    -0.845957  -0.793392            1113\n",
       "253     0.000000   0.000000            5601\n",
       "281     1.945250   0.569340           12716\n",
       "282     2.753155   0.172438           12717\n",
       "176     7.124500   0.444330            1232\n",
       "279   225.817477   0.779424           12710\n",
       "\n",
       "[391 rows x 3 columns]"
      ]
     },
     "execution_count": 8,
     "metadata": {},
     "output_type": "execute_result"
    }
   ],
   "source": [
    "# For loop to find alpha, beta for each question\n",
    "ques_ids = merged.groupby('question_id').count() #.reset_index(name = 'ques_id')\n",
    "alpha = []\n",
    "beta = []\n",
    "for i in ques_ids.index:\n",
    "    q = merged.loc[merged['question_id'] == i]\n",
    "    theta = q['student_score']\n",
    "    p = q['correct']\n",
    "    try:\n",
    "        popt = curve_fit(icc, theta, p, p0 = (-5,.5)) # set parameters guess as -5, .5\n",
    "        alpha.append(popt[0][0])\n",
    "        beta.append(popt[0][1])\n",
    "        print('fit {0} done'.format(i))\n",
    "    except RuntimeError:\n",
    "        alpha.append(0)\n",
    "        beta.append(0)\n",
    "        print('Question {0} took too long...skip.'.format(i))\n",
    "\n",
    "# make parameter dataframe\n",
    "d = {'alpha': alpha, 'beta': beta, 'question index': ques_ids.index}\n",
    "param_df = pd.DataFrame(data=d)\n",
    "param_df.sort_values('alpha')"
   ]
  },
  {
   "cell_type": "code",
   "execution_count": 9,
   "metadata": {
    "collapsed": false
   },
   "outputs": [
    {
     "data": {
      "image/png": "[encoded data removed]",
      "text/plain": [
       "<matplotlib.figure.Figure at 0x104961710>"
      ]
     },
     "metadata": {},
     "output_type": "display_data"
    }
   ],
   "source": [
    "# Plot of alpha and beta for all of last year's questions\n",
    "sns.regplot(param_df['alpha'], param_df['beta'], fit_reg=False)\n",
    "plt.xlim(-15, 0)\n",
    "plt.ylim(0,1)\n",
    "sns.plt.xlabel('Alpha -- question differentiation')\n",
    "sns.plt.ylabel('Beta -- question difficulty')\n",
    "sns.plt.suptitle('ICC Alpha vs Beta for each question')\n",
    "plt.show()"
   ]
  },
  {
   "cell_type": "markdown",
   "metadata": {},
   "source": [
    "The plot above shows all of the questions from last year's test. This plot shows most of our points, but some outliers aren't see here.\n",
    "\n",
    "Let's pick a random question and investigate it more thoroughly to get a better sense of what is going on here."
   ]
  },
  {
   "cell_type": "code",
   "execution_count": 10,
   "metadata": {
    "collapsed": false
   },
   "outputs": [
    {
     "data": {
      "image/png": "[encoded data removed]",
      "text/plain": [
       "<matplotlib.figure.Figure at 0x10f76e080>"
      ]
     },
     "metadata": {},
     "output_type": "display_data"
    }
   ],
   "source": [
    "a_question = merged.loc[merged['question_id'] == 13]\n",
    "x = a_question['student_score']\n",
    "y= a_question['correct']\n",
    "sns.regplot(x=x,y=y,data=a_question,logistic=True)\n",
    "sns.plt.suptitle('Logistic regression fit')\n",
    "sns.plt.xlabel('Use student test score as proxy for theta parameter (student ability)')\n",
    "sns.plt.ylabel('Correct response = 1, incorrect response = 0')\n",
    "\n",
    "plt.show()"
   ]
  },
  {
   "cell_type": "markdown",
   "metadata": {},
   "source": [
    "The chart above shows that this question doesn't have a high degree of differentiation...lot's of students with high ability got it wrong and lots of students with low ability got it right. We can see that the \"slope\" of the steep part of the curve just isn't that steep, and so it isn't doing a great job in assessing the students' understanding of Astrometrics. \n",
    "\n",
    "Recall, the item characteristic model assumes that student ability is one dimensional. Unrealistic though this may be, we're sticking with it for now. If this is the case, and we are expected to sort students on this one dimension, a question like this isn't great. "
   ]
  },
  {
   "cell_type": "markdown",
   "metadata": {},
   "source": [
    "### 3. Poor Questions <a name=\"pqs\"></a>\n",
    "\n",
    "Before we select poor questions to exclude, let's get a better sense of some particular questions to feel more confident in our selection procedure. What are the questions we really want to avoid?\n",
    "\n",
    "Below, we look at questions with positive alpha. This is not a good thing."
   ]
  },
  {
   "cell_type": "code",
   "execution_count": 11,
   "metadata": {
    "collapsed": false
   },
   "outputs": [
    {
     "data": {
      "text/html": [
       "<div>\n",
       "<table border=\"1\" class=\"dataframe\">\n",
       "  <thead>\n",
       "    <tr style=\"text-align: right;\">\n",
       "      <th></th>\n",
       "      <th>alpha</th>\n",
       "      <th>beta</th>\n",
       "      <th>question index</th>\n",
       "    </tr>\n",
       "  </thead>\n",
       "  <tbody>\n",
       "    <tr>\n",
       "      <th>176</th>\n",
       "      <td>7.124500</td>\n",
       "      <td>0.444330</td>\n",
       "      <td>1232</td>\n",
       "    </tr>\n",
       "    <tr>\n",
       "      <th>279</th>\n",
       "      <td>225.817477</td>\n",
       "      <td>0.779424</td>\n",
       "      <td>12710</td>\n",
       "    </tr>\n",
       "    <tr>\n",
       "      <th>281</th>\n",
       "      <td>1.945250</td>\n",
       "      <td>0.569340</td>\n",
       "      <td>12716</td>\n",
       "    </tr>\n",
       "    <tr>\n",
       "      <th>282</th>\n",
       "      <td>2.753155</td>\n",
       "      <td>0.172438</td>\n",
       "      <td>12717</td>\n",
       "    </tr>\n",
       "  </tbody>\n",
       "</table>\n",
       "</div>"
      ],
      "text/plain": [
       "          alpha      beta  question index\n",
       "176    7.124500  0.444330            1232\n",
       "279  225.817477  0.779424           12710\n",
       "281    1.945250  0.569340           12716\n",
       "282    2.753155  0.172438           12717"
      ]
     },
     "execution_count": 11,
     "metadata": {},
     "output_type": "execute_result"
    }
   ],
   "source": [
    "param_df.query('alpha>0')"
   ]
  },
  {
   "cell_type": "code",
   "execution_count": 12,
   "metadata": {
    "collapsed": false
   },
   "outputs": [
    {
     "data": {
      "image/png": "[encoded data removed]",
      "text/plain": [
       "<matplotlib.figure.Figure at 0x1270cdba8>"
      ]
     },
     "metadata": {},
     "output_type": "display_data"
    }
   ],
   "source": [
    "# let's look at the first question on the list above\n",
    "bad_q = list(param_df.query('alpha>0')['question index'])[0]\n",
    "bad_question1 = merged.loc[merged['question_id'] == bad_q]\n",
    "x = bad_question1['student_score']\n",
    "y= bad_question1['correct']\n",
    "sns.regplot(x=x,y=y,data=bad_question1,logistic=True)\n",
    "sns.plt.suptitle('Logistic regression fit')\n",
    "sns.plt.xlabel('Use student test score as proxy for theta parameter (student ability)')\n",
    "sns.plt.ylabel('Correct response = 1, incorrect response = 0')\n",
    "\n",
    "plt.show()"
   ]
  },
  {
   "cell_type": "markdown",
   "metadata": {},
   "source": [
    "Ya...this is not good. It seems like students with lower ability do **better** on this question. We are doing to operate under the assumption that correct responses relates to increased ability. This question flies in the face of that. Ideally, we want to only have negative alpha questions."
   ]
  },
  {
   "cell_type": "markdown",
   "metadata": {},
   "source": [
    "OK, so what about beta greater than 1 or less than 0? If we are assuming that test score = student ability = theta, then a question with beta outside of this 0-1 range will imply that this question is aced by everyone, or impossible. Neither are the sign of a good question if we are trying to rank the test takers. Remember, we want our questions to allow us to differentiate, and if there is no variation amongst the students, we can't do that."
   ]
  },
  {
   "cell_type": "code",
   "execution_count": 13,
   "metadata": {
    "collapsed": false
   },
   "outputs": [
    {
     "data": {
      "text/html": [
       "<div>\n",
       "<table border=\"1\" class=\"dataframe\">\n",
       "  <thead>\n",
       "    <tr style=\"text-align: right;\">\n",
       "      <th></th>\n",
       "      <th>alpha</th>\n",
       "      <th>beta</th>\n",
       "      <th>question index</th>\n",
       "    </tr>\n",
       "  </thead>\n",
       "  <tbody>\n",
       "    <tr>\n",
       "      <th>248</th>\n",
       "      <td>-2.249208</td>\n",
       "      <td>1.177172</td>\n",
       "      <td>5566</td>\n",
       "    </tr>\n",
       "    <tr>\n",
       "      <th>284</th>\n",
       "      <td>-2.544085</td>\n",
       "      <td>1.445717</td>\n",
       "      <td>12719</td>\n",
       "    </tr>\n",
       "    <tr>\n",
       "      <th>288</th>\n",
       "      <td>-2.038102</td>\n",
       "      <td>1.160517</td>\n",
       "      <td>12730</td>\n",
       "    </tr>\n",
       "    <tr>\n",
       "      <th>291</th>\n",
       "      <td>-1.757753</td>\n",
       "      <td>1.181655</td>\n",
       "      <td>12749</td>\n",
       "    </tr>\n",
       "    <tr>\n",
       "      <th>295</th>\n",
       "      <td>-4.509932</td>\n",
       "      <td>1.090120</td>\n",
       "      <td>12755</td>\n",
       "    </tr>\n",
       "  </tbody>\n",
       "</table>\n",
       "</div>"
      ],
      "text/plain": [
       "        alpha      beta  question index\n",
       "248 -2.249208  1.177172            5566\n",
       "284 -2.544085  1.445717           12719\n",
       "288 -2.038102  1.160517           12730\n",
       "291 -1.757753  1.181655           12749\n",
       "295 -4.509932  1.090120           12755"
      ]
     },
     "execution_count": 13,
     "metadata": {},
     "output_type": "execute_result"
    }
   ],
   "source": [
    "param_df.query('beta>1')"
   ]
  },
  {
   "cell_type": "markdown",
   "metadata": {},
   "source": [
    "The plot below shows a simple linear regression for this question...essentially, it is so hard that no one (using a two-parameter ICC model) is predicted to be able to answer it correctly. This is not what we want, so we'll remove from this year's test."
   ]
  },
  {
   "cell_type": "code",
   "execution_count": 14,
   "metadata": {
    "collapsed": false
   },
   "outputs": [
    {
     "data": {
      "image/png": "[encoded data removed]",
      "text/plain": [
       "<matplotlib.figure.Figure at 0x1270f0828>"
      ]
     },
     "metadata": {},
     "output_type": "display_data"
    }
   ],
   "source": [
    "# a beta above 1\n",
    "bad_q = list(param_df.query('beta>1')['question index'])[0]\n",
    "bad_question1 = merged.loc[merged['question_id'] == bad_q]\n",
    "x = bad_question1['student_score']\n",
    "y= bad_question1['correct']\n",
    "sns.regplot(x=x,y=y,data=bad_question1) #, logistic=True)\n",
    "sns.plt.suptitle('Logistic regression fit')\n",
    "sns.plt.xlabel('Use student test score as proxy for theta parameter (student ability)')\n",
    "sns.plt.ylabel('Correct response = 1, incorrect response = 0')\n",
    "\n",
    "plt.show()"
   ]
  },
  {
   "cell_type": "markdown",
   "metadata": {},
   "source": [
    "The following questions have beta < 0, and we can see the plot. These questions are too easy."
   ]
  },
  {
   "cell_type": "code",
   "execution_count": 15,
   "metadata": {
    "collapsed": false
   },
   "outputs": [
    {
     "data": {
      "text/html": [
       "<div>\n",
       "<table border=\"1\" class=\"dataframe\">\n",
       "  <thead>\n",
       "    <tr style=\"text-align: right;\">\n",
       "      <th></th>\n",
       "      <th>alpha</th>\n",
       "      <th>beta</th>\n",
       "      <th>question index</th>\n",
       "    </tr>\n",
       "  </thead>\n",
       "  <tbody>\n",
       "    <tr>\n",
       "      <th>165</th>\n",
       "      <td>-0.845957</td>\n",
       "      <td>-0.793392</td>\n",
       "      <td>1113</td>\n",
       "    </tr>\n",
       "    <tr>\n",
       "      <th>275</th>\n",
       "      <td>-2.066647</td>\n",
       "      <td>-10.470703</td>\n",
       "      <td>12665</td>\n",
       "    </tr>\n",
       "  </tbody>\n",
       "</table>\n",
       "</div>"
      ],
      "text/plain": [
       "        alpha       beta  question index\n",
       "165 -0.845957  -0.793392            1113\n",
       "275 -2.066647 -10.470703           12665"
      ]
     },
     "execution_count": 15,
     "metadata": {},
     "output_type": "execute_result"
    }
   ],
   "source": [
    "param_df.query('beta<0')"
   ]
  },
  {
   "cell_type": "code",
   "execution_count": 16,
   "metadata": {
    "collapsed": false
   },
   "outputs": [
    {
     "data": {
      "image/png": "[encoded data removed]",
      "text/plain": [
       "<matplotlib.figure.Figure at 0x12724f438>"
      ]
     },
     "metadata": {},
     "output_type": "display_data"
    }
   ],
   "source": [
    "# a beta above 1\n",
    "bad_q = list(param_df.query('beta<0')['question index'])[0]\n",
    "bad_question1 = merged.loc[merged['question_id'] == bad_q]\n",
    "x = bad_question1['student_score']\n",
    "y= bad_question1['correct']\n",
    "sns.regplot(x=x,y=y,data=bad_question1) #,logistic=True)\n",
    "sns.plt.suptitle('Logistic regression fit')\n",
    "sns.plt.xlabel('Use student test score as proxy for theta parameter (student ability)')\n",
    "sns.plt.ylabel('Correct response = 1, incorrect response = 0')\n",
    "\n",
    "plt.show()"
   ]
  },
  {
   "cell_type": "markdown",
   "metadata": {},
   "source": [
    "Also, let's check if there are any questions that no one or everyone got right."
   ]
  },
  {
   "cell_type": "code",
   "execution_count": 17,
   "metadata": {
    "collapsed": true
   },
   "outputs": [],
   "source": [
    "scores = df.groupby('question_id')['correct'].mean() "
   ]
  },
  {
   "cell_type": "code",
   "execution_count": 18,
   "metadata": {
    "collapsed": false
   },
   "outputs": [
    {
     "data": {
      "text/plain": [
       "0"
      ]
     },
     "execution_count": 18,
     "metadata": {},
     "output_type": "execute_result"
    }
   ],
   "source": [
    "sum(scores==0)"
   ]
  },
  {
   "cell_type": "code",
   "execution_count": 19,
   "metadata": {
    "collapsed": false
   },
   "outputs": [
    {
     "data": {
      "text/plain": [
       "1"
      ]
     },
     "execution_count": 19,
     "metadata": {},
     "output_type": "execute_result"
    }
   ],
   "source": [
    "sum(scores==1)"
   ]
  },
  {
   "cell_type": "code",
   "execution_count": 20,
   "metadata": {
    "collapsed": false
   },
   "outputs": [
    {
     "data": {
      "text/html": [
       "<div>\n",
       "<table border=\"1\" class=\"dataframe\">\n",
       "  <thead>\n",
       "    <tr style=\"text-align: right;\">\n",
       "      <th></th>\n",
       "      <th>question_id</th>\n",
       "      <th>correct</th>\n",
       "    </tr>\n",
       "  </thead>\n",
       "  <tbody>\n",
       "    <tr>\n",
       "      <th>0</th>\n",
       "      <td>12665</td>\n",
       "      <td>1.0</td>\n",
       "    </tr>\n",
       "  </tbody>\n",
       "</table>\n",
       "</div>"
      ],
      "text/plain": [
       "   question_id  correct\n",
       "0        12665      1.0"
      ]
     },
     "execution_count": 20,
     "metadata": {},
     "output_type": "execute_result"
    }
   ],
   "source": [
    "scores[scores==1].reset_index()"
   ]
  },
  {
   "cell_type": "markdown",
   "metadata": {
    "variables": {
     "scores[scores==1].reset_index()['question_id'][0]": "12665"
    }
   },
   "source": [
    "Question {{scores[scores==1].reset_index()['question_id'][0]}} is a problem child, as everyone got it right. If offers no explanatory power (or at least it didn't last time around), so we'll take that out too."
   ]
  },
  {
   "cell_type": "markdown",
   "metadata": {},
   "source": [
    "To recap...using item response theory as a guide, I propose to remove question based on the following criteria:\n",
    "\n",
    "* no differentiation power ($\\alpha > 0$)\n",
    "* inappropriate difficulty ($\\beta<0$ or $\\beta>1$)\n",
    "* 100% pass rate on last year's test\n",
    "\n",
    "So far, we want to remove the following questions:\n",
    "\n",
    "- 1113\n",
    "- 1232 (doubly so...see 'inconsistent_qs.ipynb' for further explanation of this question's removal)\n",
    "- 5566\n",
    "- 12665\n",
    "- 12710\n",
    "- 12716\n",
    "- 12717\n",
    "- 12719\n",
    "- 12730\n",
    "- 12749\t\n",
    "- 12755"
   ]
  },
  {
   "cell_type": "markdown",
   "metadata": {},
   "source": [
    "BUT...We might have some redundancy in the current test, so maybe we should remove a few more questions. That is, there are likely questions that have similar difficulty but different differentiation. In this case, we'd rather just keep the questions with higher differentiation. Let's see how a simple fix will do here.\n",
    "\n",
    "Below, I will subset the questions from last year, including only those with beta between 0 and 1, and setting our standard for alpha at -6. (This standard was arbitrarily chosen, as it gives a number of questions that is high enough.)"
   ]
  },
  {
   "cell_type": "code",
   "execution_count": 21,
   "metadata": {
    "collapsed": false
   },
   "outputs": [
    {
     "data": {
      "text/plain": [
       "(216, 3)"
      ]
     },
     "execution_count": 21,
     "metadata": {},
     "output_type": "execute_result"
    }
   ],
   "source": [
    "final = param_df.query('alpha<-6 & beta>0 and beta<1')\n",
    "final.shape"
   ]
  },
  {
   "cell_type": "markdown",
   "metadata": {
    "variables": {
     "final.shape[0]": "216"
    }
   },
   "source": [
    "We now have {{final.shape[0]}} questions. This is slightly above the 50% threshold our boss dictated, so that is nice."
   ]
  },
  {
   "cell_type": "code",
   "execution_count": 22,
   "metadata": {
    "collapsed": false
   },
   "outputs": [
    {
     "name": "stderr",
     "output_type": "stream",
     "text": [
      "/anaconda/envs/py35/lib/python3.5/site-packages/statsmodels/nonparametric/kdetools.py:20: VisibleDeprecationWarning: using a non-integer number instead of an integer will result in an error in the future\n",
      "  y = X[:m/2+1] + np.r_[0,X[m/2+1:],0]*1j\n"
     ]
    },
    {
     "data": {
      "image/png": "[encoded data removed]",
      "text/plain": [
       "<matplotlib.figure.Figure at 0x1257bea58>"
      ]
     },
     "metadata": {},
     "output_type": "display_data"
    }
   ],
   "source": [
    "sns.distplot(param_df['beta'],label = 'Betas')\n",
    "sns.distplot(scores, label = 'Question scores')\n",
    "sns.distplot(final['beta'], label = 'Alpha < -6 scores')\n",
    "\n",
    "plt.xlim(0,1)\n",
    "sns.plt.suptitle('Last year\\'s question difficulty - two metrics')\n",
    "legend = plt.legend()\n",
    "\n",
    "plt.show()"
   ]
  },
  {
   "cell_type": "markdown",
   "metadata": {
    "variables": {
     "print(\"%.3f\" % final['beta'].median())": "0.448"
    }
   },
   "source": [
    "The plot above shows student scores, all of last year's questions' betas, and finally, the distribution of betas for just the highest alpha questions (|alpha| > 6).\n",
    "\n",
    "So, though our method so far seems fairly reasonable, this plot above is bothering me. The red is far to the left of the green. Our questions are too easy! \n",
    "\n",
    "We are asking high alpha questions, which is sweet, but the average beta of the questions we are choosing is low. If the average student ability (as measured by score in last year's test) is near 60%, but the median of the question difficulty from the above subset (red) is {{print(\"%.3f\" % final['beta'].median())}}, then we are asking questions that are too easy. \n",
    "\n",
    "We want to change this so we are still asking  questions with high differentiation, but do so in a way that our question difficulty better matches the student population. This should make sense -- if the kids are good, we want to ask more hard questions. If they are weak, easier questions. It should be intuitive that we want the question difficulty to match the likely distribution of student ability. Let's try to do it."
   ]
  },
  {
   "cell_type": "markdown",
   "metadata": {},
   "source": [
    "### 4. Matching question difficulty to student ability<a name=\"mqd\"></a>"
   ]
  },
  {
   "cell_type": "markdown",
   "metadata": {},
   "source": [
    "Let's split up our student scores into 100 bins. (We could reset this to another number, if we liked.) How many kids fall into certain ranges?"
   ]
  },
  {
   "cell_type": "code",
   "execution_count": 23,
   "metadata": {
    "collapsed": false
   },
   "outputs": [
    {
     "data": {
      "text/html": [
       "<div>\n",
       "<table border=\"1\" class=\"dataframe\">\n",
       "  <thead>\n",
       "    <tr style=\"text-align: right;\">\n",
       "      <th></th>\n",
       "      <th>index</th>\n",
       "      <th>correct</th>\n",
       "    </tr>\n",
       "  </thead>\n",
       "  <tbody>\n",
       "    <tr>\n",
       "      <th>87</th>\n",
       "      <td>-0.001</td>\n",
       "      <td>20</td>\n",
       "    </tr>\n",
       "    <tr>\n",
       "      <th>99</th>\n",
       "      <td>0.010</td>\n",
       "      <td>0</td>\n",
       "    </tr>\n",
       "    <tr>\n",
       "      <th>98</th>\n",
       "      <td>0.020</td>\n",
       "      <td>0</td>\n",
       "    </tr>\n",
       "    <tr>\n",
       "      <th>95</th>\n",
       "      <td>0.030</td>\n",
       "      <td>4</td>\n",
       "    </tr>\n",
       "    <tr>\n",
       "      <th>93</th>\n",
       "      <td>0.040</td>\n",
       "      <td>9</td>\n",
       "    </tr>\n",
       "  </tbody>\n",
       "</table>\n",
       "</div>"
      ],
      "text/plain": [
       "    index  correct\n",
       "87 -0.001       20\n",
       "99  0.010        0\n",
       "98  0.020        0\n",
       "95  0.030        4\n",
       "93  0.040        9"
      ]
     },
     "execution_count": 23,
     "metadata": {},
     "output_type": "execute_result"
    }
   ],
   "source": [
    "binned_scores = student_scores.value_counts(bins=100)\n",
    "binned_scores = binned_scores.reset_index()\n",
    "binned_scores = binned_scores.sort_values(by='index')\n",
    "binned_scores[0:5] # this shows that 20 student had scores between 0 and .1"
   ]
  },
  {
   "cell_type": "code",
   "execution_count": 24,
   "metadata": {
    "collapsed": false
   },
   "outputs": [
    {
     "data": {
      "text/html": [
       "<div>\n",
       "<table border=\"1\" class=\"dataframe\">\n",
       "  <thead>\n",
       "    <tr style=\"text-align: right;\">\n",
       "      <th></th>\n",
       "      <th>index</th>\n",
       "      <th>correct</th>\n",
       "      <th>percent_qs</th>\n",
       "    </tr>\n",
       "  </thead>\n",
       "  <tbody>\n",
       "    <tr>\n",
       "      <th>87</th>\n",
       "      <td>-0.001</td>\n",
       "      <td>20</td>\n",
       "      <td>0.001558</td>\n",
       "    </tr>\n",
       "    <tr>\n",
       "      <th>99</th>\n",
       "      <td>0.010</td>\n",
       "      <td>0</td>\n",
       "      <td>0.000000</td>\n",
       "    </tr>\n",
       "    <tr>\n",
       "      <th>98</th>\n",
       "      <td>0.020</td>\n",
       "      <td>0</td>\n",
       "      <td>0.000000</td>\n",
       "    </tr>\n",
       "    <tr>\n",
       "      <th>95</th>\n",
       "      <td>0.030</td>\n",
       "      <td>4</td>\n",
       "      <td>0.000312</td>\n",
       "    </tr>\n",
       "    <tr>\n",
       "      <th>93</th>\n",
       "      <td>0.040</td>\n",
       "      <td>9</td>\n",
       "      <td>0.000701</td>\n",
       "    </tr>\n",
       "  </tbody>\n",
       "</table>\n",
       "</div>"
      ],
      "text/plain": [
       "    index  correct  percent_qs\n",
       "87 -0.001       20    0.001558\n",
       "99  0.010        0    0.000000\n",
       "98  0.020        0    0.000000\n",
       "95  0.030        4    0.000312\n",
       "93  0.040        9    0.000701"
      ]
     },
     "execution_count": 24,
     "metadata": {},
     "output_type": "execute_result"
    }
   ],
   "source": [
    "binned_scores['percent_qs'] = binned_scores['correct']/len(student_scores)\n",
    "binned_scores[0:5] # we add the perecent column. we want to know\n",
    "                   # the relative frequency of scores"
   ]
  },
  {
   "cell_type": "markdown",
   "metadata": {},
   "source": [
    "We see above that, of all the student scores, a small percent of them were between 0 and 1%. That's good news for the students and the old Astrometrics teacher!"
   ]
  },
  {
   "cell_type": "code",
   "execution_count": 25,
   "metadata": {
    "collapsed": false
   },
   "outputs": [
    {
     "data": {
      "text/html": [
       "<div>\n",
       "<table border=\"1\" class=\"dataframe\">\n",
       "  <thead>\n",
       "    <tr style=\"text-align: right;\">\n",
       "      <th></th>\n",
       "      <th>index</th>\n",
       "      <th>correct</th>\n",
       "      <th>percent_qs</th>\n",
       "      <th># questions to ask</th>\n",
       "    </tr>\n",
       "  </thead>\n",
       "  <tbody>\n",
       "    <tr>\n",
       "      <th>87</th>\n",
       "      <td>-0.001</td>\n",
       "      <td>20</td>\n",
       "      <td>0.001558</td>\n",
       "      <td>0.467326</td>\n",
       "    </tr>\n",
       "    <tr>\n",
       "      <th>99</th>\n",
       "      <td>0.010</td>\n",
       "      <td>0</td>\n",
       "      <td>0.000000</td>\n",
       "      <td>0.000000</td>\n",
       "    </tr>\n",
       "    <tr>\n",
       "      <th>98</th>\n",
       "      <td>0.020</td>\n",
       "      <td>0</td>\n",
       "      <td>0.000000</td>\n",
       "      <td>0.000000</td>\n",
       "    </tr>\n",
       "    <tr>\n",
       "      <th>95</th>\n",
       "      <td>0.030</td>\n",
       "      <td>4</td>\n",
       "      <td>0.000312</td>\n",
       "      <td>0.093465</td>\n",
       "    </tr>\n",
       "    <tr>\n",
       "      <th>93</th>\n",
       "      <td>0.040</td>\n",
       "      <td>9</td>\n",
       "      <td>0.000701</td>\n",
       "      <td>0.210297</td>\n",
       "    </tr>\n",
       "  </tbody>\n",
       "</table>\n",
       "</div>"
      ],
      "text/plain": [
       "    index  correct  percent_qs  # questions to ask\n",
       "87 -0.001       20    0.001558            0.467326\n",
       "99  0.010        0    0.000000            0.000000\n",
       "98  0.020        0    0.000000            0.000000\n",
       "95  0.030        4    0.000312            0.093465\n",
       "93  0.040        9    0.000701            0.210297"
      ]
     },
     "execution_count": 25,
     "metadata": {},
     "output_type": "execute_result"
    }
   ],
   "source": [
    "total_num_qs = 300 # very roughly. this wont be exact, in the end\n",
    "binned_scores['# questions to ask'] = binned_scores['percent_qs']*total_num_qs\n",
    "binned_scores[0:5]"
   ]
  },
  {
   "cell_type": "markdown",
   "metadata": {},
   "source": [
    "Decimals aren't helpful (we can't include a fraction of a question in our bank). So let's round this column."
   ]
  },
  {
   "cell_type": "code",
   "execution_count": 26,
   "metadata": {
    "collapsed": false
   },
   "outputs": [
    {
     "data": {
      "text/html": [
       "<div>\n",
       "<table border=\"1\" class=\"dataframe\">\n",
       "  <thead>\n",
       "    <tr style=\"text-align: right;\">\n",
       "      <th></th>\n",
       "      <th>index</th>\n",
       "      <th>correct</th>\n",
       "      <th>percent_qs</th>\n",
       "      <th># questions to ask</th>\n",
       "      <th>rounded</th>\n",
       "    </tr>\n",
       "  </thead>\n",
       "  <tbody>\n",
       "    <tr>\n",
       "      <th>87</th>\n",
       "      <td>-0.001</td>\n",
       "      <td>20</td>\n",
       "      <td>0.001558</td>\n",
       "      <td>0.467326</td>\n",
       "      <td>0.0</td>\n",
       "    </tr>\n",
       "    <tr>\n",
       "      <th>99</th>\n",
       "      <td>0.010</td>\n",
       "      <td>0</td>\n",
       "      <td>0.000000</td>\n",
       "      <td>0.000000</td>\n",
       "      <td>0.0</td>\n",
       "    </tr>\n",
       "    <tr>\n",
       "      <th>98</th>\n",
       "      <td>0.020</td>\n",
       "      <td>0</td>\n",
       "      <td>0.000000</td>\n",
       "      <td>0.000000</td>\n",
       "      <td>0.0</td>\n",
       "    </tr>\n",
       "    <tr>\n",
       "      <th>95</th>\n",
       "      <td>0.030</td>\n",
       "      <td>4</td>\n",
       "      <td>0.000312</td>\n",
       "      <td>0.093465</td>\n",
       "      <td>0.0</td>\n",
       "    </tr>\n",
       "    <tr>\n",
       "      <th>93</th>\n",
       "      <td>0.040</td>\n",
       "      <td>9</td>\n",
       "      <td>0.000701</td>\n",
       "      <td>0.210297</td>\n",
       "      <td>0.0</td>\n",
       "    </tr>\n",
       "  </tbody>\n",
       "</table>\n",
       "</div>"
      ],
      "text/plain": [
       "    index  correct  percent_qs  # questions to ask  rounded\n",
       "87 -0.001       20    0.001558            0.467326      0.0\n",
       "99  0.010        0    0.000000            0.000000      0.0\n",
       "98  0.020        0    0.000000            0.000000      0.0\n",
       "95  0.030        4    0.000312            0.093465      0.0\n",
       "93  0.040        9    0.000701            0.210297      0.0"
      ]
     },
     "execution_count": 26,
     "metadata": {},
     "output_type": "execute_result"
    }
   ],
   "source": [
    "binned_scores['rounded'] = binned_scores['# questions to ask'].round()\n",
    "binned_scores[0:5]"
   ]
  },
  {
   "cell_type": "markdown",
   "metadata": {},
   "source": [
    "Cool! \n",
    "\n",
    "The above is saying that we want to look at all of our questions and their difficulty. For each bin, we want to take the value in rounded number of questions to put in our bank.\n",
    "\n",
    "Now, let's do some heavy lifting. We use pandas query to group the parameter dataframe so that we are just looking at a subset of questions in a certain range.\n",
    "\n",
    "Then, we reference the rounded column and determine how many of the questions in this bin we should choose. We sort the questions on alpha score, and choose the questions with the lowest alpha (differentiability). "
   ]
  },
  {
   "cell_type": "code",
   "execution_count": 27,
   "metadata": {
    "collapsed": false
   },
   "outputs": [],
   "source": [
    "examids=[]\n",
    "param_df.sort_values(by='beta')\n",
    "for i in range(len(binned_scores)): # for each bin\n",
    "    look_here = param_df.query('beta>(@i/100) &beta<((@i+1)/100)') # look \n",
    "    # at params with beta between i/100 (eg 0) and i+1 / 100 (eg .01)\n",
    "    num_to_take = binned_scores['rounded'].iloc[i] # look in binned_score df. \n",
    "    num_to_take = int(num_to_take)\n",
    "    # how many questions in this range do we wanna take?\n",
    "    sorted_look = look_here.sort_values(by='alpha',ascending=True)\n",
    "    try:\n",
    "        take = sorted_look['question index'].head(num_to_take)\n",
    "        take_list = list(take.reset_index()['question index'])\n",
    "        examids.append(take_list)\n",
    "    except:\n",
    "        pass"
   ]
  },
  {
   "cell_type": "markdown",
   "metadata": {},
   "source": [
    "Just a little bit of cleaning to make our question id list prettier. "
   ]
  },
  {
   "cell_type": "code",
   "execution_count": 28,
   "metadata": {
    "collapsed": false
   },
   "outputs": [
    {
     "data": {
      "text/plain": [
       "199"
      ]
     },
     "execution_count": 28,
     "metadata": {},
     "output_type": "execute_result"
    }
   ],
   "source": [
    "# examids\n",
    "list2 = [x for x in examids if x != []]\n",
    "list2\n",
    "final_list = [item for sublist in list2 for item in sublist]\n",
    "len(final_list)"
   ]
  },
  {
   "cell_type": "code",
   "execution_count": 29,
   "metadata": {
    "collapsed": false
   },
   "outputs": [],
   "source": [
    "final_df = param_df.loc[param_df['question index'].isin(final_list)]"
   ]
  },
  {
   "cell_type": "markdown",
   "metadata": {
    "variables": {
     "len(final_list)": "199"
    }
   },
   "source": [
    "In this case, we finished with a list of {{len(final_list)}} questions that have the highest possible differentiation, but also are appropriately difficult (the distribution of question beta should roughly match the anticipated ability of student scores)."
   ]
  },
  {
   "cell_type": "code",
   "execution_count": 30,
   "metadata": {
    "collapsed": false
   },
   "outputs": [
    {
     "name": "stderr",
     "output_type": "stream",
     "text": [
      "/anaconda/envs/py35/lib/python3.5/site-packages/statsmodels/nonparametric/kdetools.py:20: VisibleDeprecationWarning: using a non-integer number instead of an integer will result in an error in the future\n",
      "  y = X[:m/2+1] + np.r_[0,X[m/2+1:],0]*1j\n"
     ]
    },
    {
     "data": {
      "image/png": "[encoded data removed]",
      "text/plain": [
       "<matplotlib.figure.Figure at 0x110691f60>"
      ]
     },
     "metadata": {},
     "output_type": "display_data"
    }
   ],
   "source": [
    "sns.distplot(final_df['beta'], label='Difficulty of selected questions (beta)')\n",
    "sns.distplot(student_scores, label = 'Last year\\'s student scores')\n",
    "sns.plt.suptitle('Distribution of Student Scores and question difficulty')\n",
    "legend = plt.legend()\n",
    "plt.show()"
   ]
  },
  {
   "cell_type": "markdown",
   "metadata": {},
   "source": [
    "Awesome...the questions match up well with how we antipate our students to be!"
   ]
  },
  {
   "cell_type": "markdown",
   "metadata": {},
   "source": [
    "Just to finish, let's now go back and take out any questions for which alpha is greater than 0 or beta is outside of the 0-1 range."
   ]
  },
  {
   "cell_type": "code",
   "execution_count": 31,
   "metadata": {
    "collapsed": false
   },
   "outputs": [],
   "source": [
    "absolute_final = final_df.query('beta>0& beta<1 &alpha<0')"
   ]
  },
  {
   "cell_type": "code",
   "execution_count": 32,
   "metadata": {
    "collapsed": false
   },
   "outputs": [
    {
     "data": {
      "text/plain": [
       "-6.206977503574865"
      ]
     },
     "execution_count": 32,
     "metadata": {},
     "output_type": "execute_result"
    }
   ],
   "source": [
    "param_df['alpha'].median()"
   ]
  },
  {
   "cell_type": "code",
   "execution_count": 33,
   "metadata": {
    "collapsed": false
   },
   "outputs": [
    {
     "data": {
      "text/plain": [
       "-7.051191462924223"
      ]
     },
     "execution_count": 33,
     "metadata": {},
     "output_type": "execute_result"
    }
   ],
   "source": [
    "absolute_final['alpha'].median()"
   ]
  },
  {
   "cell_type": "markdown",
   "metadata": {
    "variables": {
     "len(absolute_final)": "198"
    }
   },
   "source": [
    "So we now have appropriate difficulty, plus all of the other features we wanted (high differentiation and no beta outside [0,1]). Our test bank will contain {{len(absolute_final)}} questions."
   ]
  },
  {
   "cell_type": "markdown",
   "metadata": {
    "collapsed": true
   },
   "source": [
    "### 5. Removed Questions<a name=\"rqs\"></a>\n"
   ]
  },
  {
   "cell_type": "markdown",
   "metadata": {},
   "source": [
    "To answer the original question, the questions to exclude are listed here in their entirety in the 'question index' column:"
   ]
  },
  {
   "cell_type": "code",
   "execution_count": 34,
   "metadata": {
    "collapsed": false
   },
   "outputs": [
    {
     "data": {
      "text/html": [
       "<div>\n",
       "<table border=\"1\" class=\"dataframe\">\n",
       "  <thead>\n",
       "    <tr style=\"text-align: right;\">\n",
       "      <th></th>\n",
       "      <th>index</th>\n",
       "      <th>question index</th>\n",
       "    </tr>\n",
       "  </thead>\n",
       "  <tbody>\n",
       "    <tr>\n",
       "      <th>0</th>\n",
       "      <td>2</td>\n",
       "      <td>26</td>\n",
       "    </tr>\n",
       "    <tr>\n",
       "      <th>1</th>\n",
       "      <td>3</td>\n",
       "      <td>27</td>\n",
       "    </tr>\n",
       "    <tr>\n",
       "      <th>2</th>\n",
       "      <td>4</td>\n",
       "      <td>28</td>\n",
       "    </tr>\n",
       "    <tr>\n",
       "      <th>3</th>\n",
       "      <td>6</td>\n",
       "      <td>44</td>\n",
       "    </tr>\n",
       "    <tr>\n",
       "      <th>4</th>\n",
       "      <td>7</td>\n",
       "      <td>45</td>\n",
       "    </tr>\n",
       "    <tr>\n",
       "      <th>5</th>\n",
       "      <td>9</td>\n",
       "      <td>54</td>\n",
       "    </tr>\n",
       "    <tr>\n",
       "      <th>6</th>\n",
       "      <td>11</td>\n",
       "      <td>57</td>\n",
       "    </tr>\n",
       "    <tr>\n",
       "      <th>7</th>\n",
       "      <td>13</td>\n",
       "      <td>59</td>\n",
       "    </tr>\n",
       "    <tr>\n",
       "      <th>8</th>\n",
       "      <td>15</td>\n",
       "      <td>64</td>\n",
       "    </tr>\n",
       "    <tr>\n",
       "      <th>9</th>\n",
       "      <td>17</td>\n",
       "      <td>66</td>\n",
       "    </tr>\n",
       "    <tr>\n",
       "      <th>10</th>\n",
       "      <td>19</td>\n",
       "      <td>102</td>\n",
       "    </tr>\n",
       "    <tr>\n",
       "      <th>11</th>\n",
       "      <td>20</td>\n",
       "      <td>114</td>\n",
       "    </tr>\n",
       "    <tr>\n",
       "      <th>12</th>\n",
       "      <td>22</td>\n",
       "      <td>135</td>\n",
       "    </tr>\n",
       "    <tr>\n",
       "      <th>13</th>\n",
       "      <td>23</td>\n",
       "      <td>141</td>\n",
       "    </tr>\n",
       "    <tr>\n",
       "      <th>14</th>\n",
       "      <td>24</td>\n",
       "      <td>155</td>\n",
       "    </tr>\n",
       "    <tr>\n",
       "      <th>15</th>\n",
       "      <td>26</td>\n",
       "      <td>165</td>\n",
       "    </tr>\n",
       "    <tr>\n",
       "      <th>16</th>\n",
       "      <td>27</td>\n",
       "      <td>166</td>\n",
       "    </tr>\n",
       "    <tr>\n",
       "      <th>17</th>\n",
       "      <td>31</td>\n",
       "      <td>176</td>\n",
       "    </tr>\n",
       "    <tr>\n",
       "      <th>18</th>\n",
       "      <td>32</td>\n",
       "      <td>182</td>\n",
       "    </tr>\n",
       "    <tr>\n",
       "      <th>19</th>\n",
       "      <td>33</td>\n",
       "      <td>186</td>\n",
       "    </tr>\n",
       "    <tr>\n",
       "      <th>20</th>\n",
       "      <td>36</td>\n",
       "      <td>192</td>\n",
       "    </tr>\n",
       "    <tr>\n",
       "      <th>21</th>\n",
       "      <td>37</td>\n",
       "      <td>194</td>\n",
       "    </tr>\n",
       "    <tr>\n",
       "      <th>22</th>\n",
       "      <td>38</td>\n",
       "      <td>206</td>\n",
       "    </tr>\n",
       "    <tr>\n",
       "      <th>23</th>\n",
       "      <td>41</td>\n",
       "      <td>230</td>\n",
       "    </tr>\n",
       "    <tr>\n",
       "      <th>24</th>\n",
       "      <td>42</td>\n",
       "      <td>242</td>\n",
       "    </tr>\n",
       "    <tr>\n",
       "      <th>25</th>\n",
       "      <td>43</td>\n",
       "      <td>243</td>\n",
       "    </tr>\n",
       "    <tr>\n",
       "      <th>26</th>\n",
       "      <td>44</td>\n",
       "      <td>246</td>\n",
       "    </tr>\n",
       "    <tr>\n",
       "      <th>27</th>\n",
       "      <td>46</td>\n",
       "      <td>255</td>\n",
       "    </tr>\n",
       "    <tr>\n",
       "      <th>28</th>\n",
       "      <td>48</td>\n",
       "      <td>276</td>\n",
       "    </tr>\n",
       "    <tr>\n",
       "      <th>29</th>\n",
       "      <td>49</td>\n",
       "      <td>302</td>\n",
       "    </tr>\n",
       "    <tr>\n",
       "      <th>...</th>\n",
       "      <td>...</td>\n",
       "      <td>...</td>\n",
       "    </tr>\n",
       "    <tr>\n",
       "      <th>163</th>\n",
       "      <td>295</td>\n",
       "      <td>12755</td>\n",
       "    </tr>\n",
       "    <tr>\n",
       "      <th>164</th>\n",
       "      <td>303</td>\n",
       "      <td>12799</td>\n",
       "    </tr>\n",
       "    <tr>\n",
       "      <th>165</th>\n",
       "      <td>312</td>\n",
       "      <td>12930</td>\n",
       "    </tr>\n",
       "    <tr>\n",
       "      <th>166</th>\n",
       "      <td>318</td>\n",
       "      <td>13201</td>\n",
       "    </tr>\n",
       "    <tr>\n",
       "      <th>167</th>\n",
       "      <td>319</td>\n",
       "      <td>13205</td>\n",
       "    </tr>\n",
       "    <tr>\n",
       "      <th>168</th>\n",
       "      <td>321</td>\n",
       "      <td>13208</td>\n",
       "    </tr>\n",
       "    <tr>\n",
       "      <th>169</th>\n",
       "      <td>323</td>\n",
       "      <td>13211</td>\n",
       "    </tr>\n",
       "    <tr>\n",
       "      <th>170</th>\n",
       "      <td>324</td>\n",
       "      <td>13212</td>\n",
       "    </tr>\n",
       "    <tr>\n",
       "      <th>171</th>\n",
       "      <td>329</td>\n",
       "      <td>13222</td>\n",
       "    </tr>\n",
       "    <tr>\n",
       "      <th>172</th>\n",
       "      <td>342</td>\n",
       "      <td>13274</td>\n",
       "    </tr>\n",
       "    <tr>\n",
       "      <th>173</th>\n",
       "      <td>343</td>\n",
       "      <td>13275</td>\n",
       "    </tr>\n",
       "    <tr>\n",
       "      <th>174</th>\n",
       "      <td>346</td>\n",
       "      <td>13278</td>\n",
       "    </tr>\n",
       "    <tr>\n",
       "      <th>175</th>\n",
       "      <td>349</td>\n",
       "      <td>13282</td>\n",
       "    </tr>\n",
       "    <tr>\n",
       "      <th>176</th>\n",
       "      <td>350</td>\n",
       "      <td>13286</td>\n",
       "    </tr>\n",
       "    <tr>\n",
       "      <th>177</th>\n",
       "      <td>351</td>\n",
       "      <td>13287</td>\n",
       "    </tr>\n",
       "    <tr>\n",
       "      <th>178</th>\n",
       "      <td>355</td>\n",
       "      <td>13513</td>\n",
       "    </tr>\n",
       "    <tr>\n",
       "      <th>179</th>\n",
       "      <td>358</td>\n",
       "      <td>13532</td>\n",
       "    </tr>\n",
       "    <tr>\n",
       "      <th>180</th>\n",
       "      <td>359</td>\n",
       "      <td>13535</td>\n",
       "    </tr>\n",
       "    <tr>\n",
       "      <th>181</th>\n",
       "      <td>360</td>\n",
       "      <td>13536</td>\n",
       "    </tr>\n",
       "    <tr>\n",
       "      <th>182</th>\n",
       "      <td>361</td>\n",
       "      <td>15010</td>\n",
       "    </tr>\n",
       "    <tr>\n",
       "      <th>183</th>\n",
       "      <td>362</td>\n",
       "      <td>15011</td>\n",
       "    </tr>\n",
       "    <tr>\n",
       "      <th>184</th>\n",
       "      <td>364</td>\n",
       "      <td>15014</td>\n",
       "    </tr>\n",
       "    <tr>\n",
       "      <th>185</th>\n",
       "      <td>365</td>\n",
       "      <td>15029</td>\n",
       "    </tr>\n",
       "    <tr>\n",
       "      <th>186</th>\n",
       "      <td>366</td>\n",
       "      <td>15030</td>\n",
       "    </tr>\n",
       "    <tr>\n",
       "      <th>187</th>\n",
       "      <td>367</td>\n",
       "      <td>15031</td>\n",
       "    </tr>\n",
       "    <tr>\n",
       "      <th>188</th>\n",
       "      <td>369</td>\n",
       "      <td>15033</td>\n",
       "    </tr>\n",
       "    <tr>\n",
       "      <th>189</th>\n",
       "      <td>371</td>\n",
       "      <td>15050</td>\n",
       "    </tr>\n",
       "    <tr>\n",
       "      <th>190</th>\n",
       "      <td>382</td>\n",
       "      <td>15071</td>\n",
       "    </tr>\n",
       "    <tr>\n",
       "      <th>191</th>\n",
       "      <td>383</td>\n",
       "      <td>15142</td>\n",
       "    </tr>\n",
       "    <tr>\n",
       "      <th>192</th>\n",
       "      <td>385</td>\n",
       "      <td>15403</td>\n",
       "    </tr>\n",
       "  </tbody>\n",
       "</table>\n",
       "<p>193 rows × 2 columns</p>\n",
       "</div>"
      ],
      "text/plain": [
       "     index  question index\n",
       "0        2              26\n",
       "1        3              27\n",
       "2        4              28\n",
       "3        6              44\n",
       "4        7              45\n",
       "5        9              54\n",
       "6       11              57\n",
       "7       13              59\n",
       "8       15              64\n",
       "9       17              66\n",
       "10      19             102\n",
       "11      20             114\n",
       "12      22             135\n",
       "13      23             141\n",
       "14      24             155\n",
       "15      26             165\n",
       "16      27             166\n",
       "17      31             176\n",
       "18      32             182\n",
       "19      33             186\n",
       "20      36             192\n",
       "21      37             194\n",
       "22      38             206\n",
       "23      41             230\n",
       "24      42             242\n",
       "25      43             243\n",
       "26      44             246\n",
       "27      46             255\n",
       "28      48             276\n",
       "29      49             302\n",
       "..     ...             ...\n",
       "163    295           12755\n",
       "164    303           12799\n",
       "165    312           12930\n",
       "166    318           13201\n",
       "167    319           13205\n",
       "168    321           13208\n",
       "169    323           13211\n",
       "170    324           13212\n",
       "171    329           13222\n",
       "172    342           13274\n",
       "173    343           13275\n",
       "174    346           13278\n",
       "175    349           13282\n",
       "176    350           13286\n",
       "177    351           13287\n",
       "178    355           13513\n",
       "179    358           13532\n",
       "180    359           13535\n",
       "181    360           13536\n",
       "182    361           15010\n",
       "183    362           15011\n",
       "184    364           15014\n",
       "185    365           15029\n",
       "186    366           15030\n",
       "187    367           15031\n",
       "188    369           15033\n",
       "189    371           15050\n",
       "190    382           15071\n",
       "191    383           15142\n",
       "192    385           15403\n",
       "\n",
       "[193 rows x 2 columns]"
      ]
     },
     "execution_count": 34,
     "metadata": {},
     "output_type": "execute_result"
    }
   ],
   "source": [
    "excluded = param_df.loc[~param_df['question index'].isin(absolute_final['question index'])]\n",
    "excluded['question index'].reset_index()"
   ]
  },
  {
   "cell_type": "markdown",
   "metadata": {},
   "source": [
    "This was my short solution. In total, this work alone probably took ~5 hours, plus a little more just tidy up my writing and try to eliminate typos for you. It is hard to judge, as there was more time spent thinking about the problem, and trying other solutions and other fun stuff, too. To get a sense of some other work that I put into the problem, please check out these links, as well.\n",
    "\n",
    "- EDA ('eda.ipynb')\n",
    "- Looking at inconsistent questions ('inconsistent_qs.ipynb')\n",
    "- Clustering students in question space ('student_cluster.ipynb')\n",
    "\n",
    "Thanks for your consideration, and I look foward to speaking soon about this work and more!"
   ]
  },
  {
   "cell_type": "code",
   "execution_count": null,
   "metadata": {
    "collapsed": true
   },
   "outputs": [],
   "source": []
  }
 ],
 "metadata": {
  "anaconda-cloud": {},
  "kernelspec": {
   "display_name": "Python 3",
   "language": "python",
   "name": "python3"
  },
  "language_info": {
   "codemirror_mode": {
    "name": "ipython",
    "version": 3
   },
   "file_extension": ".py",
   "mimetype": "text/x-python",
   "name": "python",
   "nbconvert_exporter": "python",
   "pygments_lexer": "ipython3",
   "version": "3.5.2"
  }
 },
 "nbformat": 4,
 "nbformat_minor": 2
}
