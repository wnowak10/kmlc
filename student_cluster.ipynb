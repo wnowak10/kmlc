{
 "cells": [
  {
   "cell_type": "markdown",
   "metadata": {},
   "source": [
    "# Question space"
   ]
  },
  {
   "cell_type": "markdown",
   "metadata": {},
   "source": [
    "In this notebook, I reshape the data, with each question made its own unique dimension. This is done in an effort to explore where students live in question space. Can insights be found?"
   ]
  },
  {
   "cell_type": "markdown",
   "metadata": {},
   "source": [
    "The following code munges the data to reshape it. This process takes a while to run and hence is commented out. Instead, just load the pickle file in this directory using code below."
   ]
  },
  {
   "cell_type": "code",
   "execution_count": 1,
   "metadata": {
    "collapsed": true
   },
   "outputs": [],
   "source": [
    "import time\n",
    "import pandas as pd\n",
    "import seaborn as sns\n",
    "import matplotlib.pyplot as plt\n",
    "import sklearn\n",
    "import pandas as pd"
   ]
  },
  {
   "cell_type": "code",
   "execution_count": 39,
   "metadata": {
    "collapsed": true
   },
   "outputs": [],
   "source": [
    "df = pd.read_csv('astudentData.csv')"
   ]
  },
  {
   "cell_type": "code",
   "execution_count": 2,
   "metadata": {
    "collapsed": false
   },
   "outputs": [],
   "source": [
    "# # reshape data\n",
    "# def f(row,qid):\n",
    "#     if row['question_id'] == qid and row['correct'] == 1:\n",
    "#         val = 1\n",
    "#     elif row['question_id'] == qid and row['correct'] == 0:\n",
    "#         val = -1\n",
    "#     else:\n",
    "#         val = 0\n",
    "#     return val\n",
    "\n",
    "# question_ids = df['question_id'].unique()\n",
    "\n",
    "# print('starting new column creation')\n",
    "# start = time.time()\n",
    "# for i in question_ids:\n",
    "#     df[i] = df.apply(f,args = (i,), axis=1)\n",
    "#     print('column {0} created'.format(i))\n",
    "\n",
    "# end = time.time()\n",
    "# print(end - start) # 50 seconds for 2. 3 hours for 400 questions!\n",
    "\n",
    "# # group by users and sum all 0 and 1s in sparse columns to get denser df\n",
    "# wide_students = df.groupby('user_id').sum()\n",
    "\n",
    "# wide_students.to_pickle('wide_students')"
   ]
  },
  {
   "cell_type": "code",
   "execution_count": 33,
   "metadata": {
    "collapsed": false
   },
   "outputs": [
    {
     "data": {
      "text/html": [
       "<div>\n",
       "<table border=\"1\" class=\"dataframe\">\n",
       "  <thead>\n",
       "    <tr style=\"text-align: right;\">\n",
       "      <th></th>\n",
       "      <th>question_id</th>\n",
       "      <th>correct</th>\n",
       "      <th>13</th>\n",
       "      <th>21</th>\n",
       "      <th>26</th>\n",
       "      <th>27</th>\n",
       "      <th>28</th>\n",
       "      <th>37</th>\n",
       "      <th>44</th>\n",
       "      <th>45</th>\n",
       "      <th>...</th>\n",
       "      <th>15071</th>\n",
       "      <th>15142</th>\n",
       "      <th>15147</th>\n",
       "      <th>15403</th>\n",
       "      <th>15412</th>\n",
       "      <th>15413</th>\n",
       "      <th>15415</th>\n",
       "      <th>15865</th>\n",
       "      <th>15872</th>\n",
       "      <th>1232</th>\n",
       "    </tr>\n",
       "    <tr>\n",
       "      <th>user_id</th>\n",
       "      <th></th>\n",
       "      <th></th>\n",
       "      <th></th>\n",
       "      <th></th>\n",
       "      <th></th>\n",
       "      <th></th>\n",
       "      <th></th>\n",
       "      <th></th>\n",
       "      <th></th>\n",
       "      <th></th>\n",
       "      <th></th>\n",
       "      <th></th>\n",
       "      <th></th>\n",
       "      <th></th>\n",
       "      <th></th>\n",
       "      <th></th>\n",
       "      <th></th>\n",
       "      <th></th>\n",
       "      <th></th>\n",
       "      <th></th>\n",
       "      <th></th>\n",
       "    </tr>\n",
       "  </thead>\n",
       "  <tbody>\n",
       "    <tr>\n",
       "      <th>34</th>\n",
       "      <td>67509</td>\n",
       "      <td>43</td>\n",
       "      <td>0</td>\n",
       "      <td>0</td>\n",
       "      <td>0</td>\n",
       "      <td>0</td>\n",
       "      <td>0</td>\n",
       "      <td>0</td>\n",
       "      <td>0</td>\n",
       "      <td>0</td>\n",
       "      <td>...</td>\n",
       "      <td>0</td>\n",
       "      <td>0</td>\n",
       "      <td>0</td>\n",
       "      <td>0</td>\n",
       "      <td>0</td>\n",
       "      <td>0</td>\n",
       "      <td>0</td>\n",
       "      <td>0</td>\n",
       "      <td>0</td>\n",
       "      <td>1</td>\n",
       "    </tr>\n",
       "    <tr>\n",
       "      <th>324</th>\n",
       "      <td>16838</td>\n",
       "      <td>14</td>\n",
       "      <td>0</td>\n",
       "      <td>0</td>\n",
       "      <td>0</td>\n",
       "      <td>1</td>\n",
       "      <td>1</td>\n",
       "      <td>0</td>\n",
       "      <td>0</td>\n",
       "      <td>0</td>\n",
       "      <td>...</td>\n",
       "      <td>0</td>\n",
       "      <td>0</td>\n",
       "      <td>0</td>\n",
       "      <td>0</td>\n",
       "      <td>0</td>\n",
       "      <td>0</td>\n",
       "      <td>0</td>\n",
       "      <td>0</td>\n",
       "      <td>0</td>\n",
       "      <td>0</td>\n",
       "    </tr>\n",
       "  </tbody>\n",
       "</table>\n",
       "<p>2 rows × 393 columns</p>\n",
       "</div>"
      ],
      "text/plain": [
       "         question_id  correct  13  21  26  27  28  37  44  45  ...   15071  \\\n",
       "user_id                                                        ...           \n",
       "34             67509       43   0   0   0   0   0   0   0   0  ...       0   \n",
       "324            16838       14   0   0   0   1   1   0   0   0  ...       0   \n",
       "\n",
       "         15142  15147  15403  15412  15413  15415  15865  15872  1232  \n",
       "user_id                                                                \n",
       "34           0      0      0      0      0      0      0      0     1  \n",
       "324          0      0      0      0      0      0      0      0     0  \n",
       "\n",
       "[2 rows x 393 columns]"
      ]
     },
     "execution_count": 33,
     "metadata": {},
     "output_type": "execute_result"
    }
   ],
   "source": [
    "import pandas as pd\n",
    "wide = pd.read_pickle('wide_students')\n",
    "wide.head(2)"
   ]
  },
  {
   "cell_type": "markdown",
   "metadata": {
    "variables": {
     "wide.shape[0]": "12839"
    }
   },
   "source": [
    "Now, we still have {{wide.shape[0]}} rows for all of our students, but each question was expanded to its own column, with values 0 for NA, 1 for correct, and -1 for incorrect. This allows us to think of the test as a n dimensional space. Let's first drop the unneeded columns."
   ]
  },
  {
   "cell_type": "code",
   "execution_count": 32,
   "metadata": {
    "collapsed": false
   },
   "outputs": [
    {
     "data": {
      "text/html": [
       "<div>\n",
       "<table border=\"1\" class=\"dataframe\">\n",
       "  <thead>\n",
       "    <tr style=\"text-align: right;\">\n",
       "      <th></th>\n",
       "      <th>13</th>\n",
       "      <th>21</th>\n",
       "      <th>26</th>\n",
       "      <th>27</th>\n",
       "      <th>28</th>\n",
       "      <th>37</th>\n",
       "      <th>44</th>\n",
       "      <th>45</th>\n",
       "      <th>53</th>\n",
       "      <th>54</th>\n",
       "      <th>...</th>\n",
       "      <th>15071</th>\n",
       "      <th>15142</th>\n",
       "      <th>15147</th>\n",
       "      <th>15403</th>\n",
       "      <th>15412</th>\n",
       "      <th>15413</th>\n",
       "      <th>15415</th>\n",
       "      <th>15865</th>\n",
       "      <th>15872</th>\n",
       "      <th>1232</th>\n",
       "    </tr>\n",
       "    <tr>\n",
       "      <th>user_id</th>\n",
       "      <th></th>\n",
       "      <th></th>\n",
       "      <th></th>\n",
       "      <th></th>\n",
       "      <th></th>\n",
       "      <th></th>\n",
       "      <th></th>\n",
       "      <th></th>\n",
       "      <th></th>\n",
       "      <th></th>\n",
       "      <th></th>\n",
       "      <th></th>\n",
       "      <th></th>\n",
       "      <th></th>\n",
       "      <th></th>\n",
       "      <th></th>\n",
       "      <th></th>\n",
       "      <th></th>\n",
       "      <th></th>\n",
       "      <th></th>\n",
       "      <th></th>\n",
       "    </tr>\n",
       "  </thead>\n",
       "  <tbody>\n",
       "    <tr>\n",
       "      <th>34</th>\n",
       "      <td>0</td>\n",
       "      <td>0</td>\n",
       "      <td>0</td>\n",
       "      <td>0</td>\n",
       "      <td>0</td>\n",
       "      <td>0</td>\n",
       "      <td>0</td>\n",
       "      <td>0</td>\n",
       "      <td>0</td>\n",
       "      <td>1</td>\n",
       "      <td>...</td>\n",
       "      <td>0</td>\n",
       "      <td>0</td>\n",
       "      <td>0</td>\n",
       "      <td>0</td>\n",
       "      <td>0</td>\n",
       "      <td>0</td>\n",
       "      <td>0</td>\n",
       "      <td>0</td>\n",
       "      <td>0</td>\n",
       "      <td>1</td>\n",
       "    </tr>\n",
       "  </tbody>\n",
       "</table>\n",
       "<p>1 rows × 391 columns</p>\n",
       "</div>"
      ],
      "text/plain": [
       "         13     21     26     27     28     37     44     45     53     54     \\\n",
       "user_id                                                                         \n",
       "34           0      0      0      0      0      0      0      0      0      1   \n",
       "\n",
       "         ...    15071  15142  15147  15403  15412  15413  15415  15865  15872  \\\n",
       "user_id  ...                                                                    \n",
       "34       ...        0      0      0      0      0      0      0      0      0   \n",
       "\n",
       "         1232   \n",
       "user_id         \n",
       "34           1  \n",
       "\n",
       "[1 rows x 391 columns]"
      ]
     },
     "execution_count": 32,
     "metadata": {},
     "output_type": "execute_result"
    }
   ],
   "source": [
    "widee = wide.drop(['question_id','correct'], 1)\n",
    "widee.head(1)"
   ]
  },
  {
   "cell_type": "code",
   "execution_count": 79,
   "metadata": {
    "collapsed": false
   },
   "outputs": [],
   "source": [
    "# Convert DataFrame to matrix\n",
    "n_clusters = 10\n",
    "mat = widee.as_matrix()\n",
    "# Using sklearn\n",
    "km = sklearn.cluster.KMeans(n_clusters=n_clusters)\n",
    "km.fit(mat)\n",
    "# Get cluster assignment labels\n",
    "labels = km.labels_\n",
    "# Format results as a DataFrame\n",
    "results = pd.DataFrame([widee.index,labels]).T"
   ]
  },
  {
   "cell_type": "code",
   "execution_count": 81,
   "metadata": {
    "collapsed": false
   },
   "outputs": [
    {
     "data": {
      "text/html": [
       "<div>\n",
       "<table border=\"1\" class=\"dataframe\">\n",
       "  <thead>\n",
       "    <tr style=\"text-align: right;\">\n",
       "      <th></th>\n",
       "      <th>index</th>\n",
       "      <th>0</th>\n",
       "      <th>1</th>\n",
       "    </tr>\n",
       "  </thead>\n",
       "  <tbody>\n",
       "    <tr>\n",
       "      <th>0</th>\n",
       "      <td>0</td>\n",
       "      <td>34</td>\n",
       "      <td>7</td>\n",
       "    </tr>\n",
       "    <tr>\n",
       "      <th>1</th>\n",
       "      <td>1</td>\n",
       "      <td>324</td>\n",
       "      <td>4</td>\n",
       "    </tr>\n",
       "    <tr>\n",
       "      <th>2</th>\n",
       "      <td>2</td>\n",
       "      <td>346</td>\n",
       "      <td>1</td>\n",
       "    </tr>\n",
       "    <tr>\n",
       "      <th>3</th>\n",
       "      <td>3</td>\n",
       "      <td>350</td>\n",
       "      <td>1</td>\n",
       "    </tr>\n",
       "    <tr>\n",
       "      <th>4</th>\n",
       "      <td>4</td>\n",
       "      <td>363</td>\n",
       "      <td>1</td>\n",
       "    </tr>\n",
       "  </tbody>\n",
       "</table>\n",
       "</div>"
      ],
      "text/plain": [
       "   index    0  1\n",
       "0      0   34  7\n",
       "1      1  324  4\n",
       "2      2  346  1\n",
       "3      3  350  1\n",
       "4      4  363  1"
      ]
     },
     "execution_count": 81,
     "metadata": {},
     "output_type": "execute_result"
    }
   ],
   "source": [
    "pca = results.reset_index()\n",
    "pca.head(5)"
   ]
  },
  {
   "cell_type": "code",
   "execution_count": 82,
   "metadata": {
    "collapsed": false
   },
   "outputs": [
    {
     "data": {
      "image/png": "[encoded data removed]",
      "text/plain": [
       "<matplotlib.figure.Figure at 0x10fd07dd8>"
      ]
     },
     "metadata": {},
     "output_type": "display_data"
    }
   ],
   "source": [
    "sns.regplot(pca[0],pca[1],fit_reg = False)\n",
    "sns.plt.xlabel('Student ID')\n",
    "sns.plt.ylabel('Cluster')\n",
    "sns.plt.suptitle('Student K-means clustering')\n",
    "plt.show()"
   ]
  },
  {
   "cell_type": "markdown",
   "metadata": {},
   "source": [
    "Above, we see the student ids on the x axis, clustered into like groups. Here, I chose 10 clusters because it is easier to visuaize. We would definitely want more clusters if we were going to use this to really try to start to differentiate our test takers. \n",
    "\n",
    "For now, though, let's just look at the 10 clusters. Do these actually mean anything?"
   ]
  },
  {
   "cell_type": "code",
   "execution_count": 83,
   "metadata": {
    "collapsed": false
   },
   "outputs": [
    {
     "data": {
      "text/html": [
       "<div>\n",
       "<table border=\"1\" class=\"dataframe\">\n",
       "  <thead>\n",
       "    <tr style=\"text-align: right;\">\n",
       "      <th></th>\n",
       "      <th>user_id</th>\n",
       "      <th>correct</th>\n",
       "    </tr>\n",
       "  </thead>\n",
       "  <tbody>\n",
       "    <tr>\n",
       "      <th>0</th>\n",
       "      <td>34</td>\n",
       "      <td>0.811321</td>\n",
       "    </tr>\n",
       "    <tr>\n",
       "      <th>1</th>\n",
       "      <td>324</td>\n",
       "      <td>0.736842</td>\n",
       "    </tr>\n",
       "    <tr>\n",
       "      <th>2</th>\n",
       "      <td>346</td>\n",
       "      <td>0.222222</td>\n",
       "    </tr>\n",
       "    <tr>\n",
       "      <th>3</th>\n",
       "      <td>350</td>\n",
       "      <td>0.489583</td>\n",
       "    </tr>\n",
       "    <tr>\n",
       "      <th>4</th>\n",
       "      <td>363</td>\n",
       "      <td>0.409091</td>\n",
       "    </tr>\n",
       "  </tbody>\n",
       "</table>\n",
       "</div>"
      ],
      "text/plain": [
       "   user_id   correct\n",
       "0       34  0.811321\n",
       "1      324  0.736842\n",
       "2      346  0.222222\n",
       "3      350  0.489583\n",
       "4      363  0.409091"
      ]
     },
     "execution_count": 83,
     "metadata": {},
     "output_type": "execute_result"
    }
   ],
   "source": [
    "student_scores = df.groupby('user_id')['correct'].mean().reset_index()\n",
    "student_scores.head()"
   ]
  },
  {
   "cell_type": "markdown",
   "metadata": {},
   "source": [
    "Let's see what the average score is for each cluster. Hopefully we see some distinctions here?\n",
    "\n",
    "\n",
    "\n",
    "\n",
    "\n",
    "\n",
    "\n",
    "\n",
    "\n"
   ]
  },
  {
   "cell_type": "code",
   "execution_count": 84,
   "metadata": {
    "collapsed": false
   },
   "outputs": [
    {
     "data": {
      "text/plain": [
       "[0.81474090654607634,\n",
       " 0.37687305827906975,\n",
       " 0.44920543472734953,\n",
       " 0.76019690394082728,\n",
       " 0.75136629095663876,\n",
       " 0.78428453876461213,\n",
       " 0.76385365329621058,\n",
       " 0.81969400265152592,\n",
       " 0.7257193003095026,\n",
       " 0.81955203154186007]"
      ]
     },
     "execution_count": 84,
     "metadata": {},
     "output_type": "execute_result"
    }
   ],
   "source": [
    "pca_groups = range(0,n_clusters)\n",
    "means = []\n",
    "for i in pca_groups:\n",
    "    idss = pca[pca[1]==i][0]\n",
    "    means.append(student_scores.loc[student_scores['user_id'].isin(idss)].mean()[1])\n",
    "\n",
    "means"
   ]
  },
  {
   "cell_type": "markdown",
   "metadata": {},
   "source": [
    "Hmm...it's unclear if this works. Surely, we do see some clusters with similar means, but if this algorithm worked its magic as we wanted, two groups with similar means could be appropriately tagged as in different clusters (because they scored similarly but on different question sets). This is all to say that I don't know that this strategy (clustering in question space) is a terrible idea, but it is also not yet clear that it's a brilliant one. As always, more to investigate! "
   ]
  },
  {
   "cell_type": "code",
   "execution_count": null,
   "metadata": {
    "collapsed": true
   },
   "outputs": [],
   "source": []
  }
 ],
 "metadata": {
  "kernelspec": {
   "display_name": "Python 3",
   "language": "python",
   "name": "python3"
  },
  "language_info": {
   "codemirror_mode": {
    "name": "ipython",
    "version": 3
   },
   "file_extension": ".py",
   "mimetype": "text/x-python",
   "name": "python",
   "nbconvert_exporter": "python",
   "pygments_lexer": "ipython3",
   "version": "3.5.2"
  }
 },
 "nbformat": 4,
 "nbformat_minor": 2
}
